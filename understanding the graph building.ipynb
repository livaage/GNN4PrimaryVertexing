{
 "cells": [
  {
   "cell_type": "code",
   "execution_count": 1,
   "metadata": {},
   "outputs": [],
   "source": [
    "%load_ext lab_black"
   ]
  },
  {
   "cell_type": "markdown",
   "metadata": {},
   "source": []
  },
  {
   "cell_type": "code",
   "execution_count": 2,
   "metadata": {},
   "outputs": [],
   "source": [
    "import pandas as pd\n",
    "import numpy as np"
   ]
  },
  {
   "cell_type": "code",
   "execution_count": 3,
   "metadata": {},
   "outputs": [],
   "source": [
    "trk = pd.read_pickle(\"/media/lucas/QS/l1_nnt/trk_processed_25k.pkl\")"
   ]
  },
  {
   "cell_type": "code",
   "execution_count": 4,
   "metadata": {},
   "outputs": [],
   "source": [
    "trk = trk.reset_index()"
   ]
  },
  {
   "cell_type": "code",
   "execution_count": 5,
   "metadata": {},
   "outputs": [],
   "source": [
    "e = trk.query(\"entry==0\").copy()"
   ]
  },
  {
   "cell_type": "code",
   "execution_count": 6,
   "metadata": {},
   "outputs": [],
   "source": [
    "n_events = e[\"entry\"].nunique()"
   ]
  },
  {
   "cell_type": "code",
   "execution_count": 7,
   "metadata": {},
   "outputs": [],
   "source": [
    "outdir = \"built_graphs/test/\""
   ]
  },
  {
   "cell_type": "code",
   "execution_count": 8,
   "metadata": {},
   "outputs": [],
   "source": [
    "e[\"unique_trk_id\"] = range(len(e))"
   ]
  },
  {
   "cell_type": "code",
   "execution_count": 9,
   "metadata": {},
   "outputs": [],
   "source": [
    "pv = e[e[\"is_pv\"] == 1]\n",
    "not_pv = e[e[\"is_pv\"] == 0]"
   ]
  },
  {
   "cell_type": "code",
   "execution_count": 10,
   "metadata": {},
   "outputs": [],
   "source": [
    "balanced_df = pd.concat([pd.concat([pv] * 6), not_pv])"
   ]
  },
  {
   "cell_type": "code",
   "execution_count": 11,
   "metadata": {},
   "outputs": [
    {
     "data": {
      "text/html": [
       "<div>\n",
       "<style scoped>\n",
       "    .dataframe tbody tr th:only-of-type {\n",
       "        vertical-align: middle;\n",
       "    }\n",
       "\n",
       "    .dataframe tbody tr th {\n",
       "        vertical-align: top;\n",
       "    }\n",
       "\n",
       "    .dataframe thead th {\n",
       "        text-align: right;\n",
       "    }\n",
       "</style>\n",
       "<table border=\"1\" class=\"dataframe\">\n",
       "  <thead>\n",
       "    <tr style=\"text-align: right;\">\n",
       "      <th></th>\n",
       "      <th>entry</th>\n",
       "      <th>subentry</th>\n",
       "      <th>trk_pt</th>\n",
       "      <th>trk_eta</th>\n",
       "      <th>trk_phi</th>\n",
       "      <th>trk_d0</th>\n",
       "      <th>trk_z0</th>\n",
       "      <th>trk_fake</th>\n",
       "      <th>is_pv</th>\n",
       "      <th>unique_trk_id</th>\n",
       "    </tr>\n",
       "  </thead>\n",
       "  <tbody>\n",
       "    <tr>\n",
       "      <th>2</th>\n",
       "      <td>0</td>\n",
       "      <td>2</td>\n",
       "      <td>3.774908</td>\n",
       "      <td>1.815973</td>\n",
       "      <td>-0.240375</td>\n",
       "      <td>999.0</td>\n",
       "      <td>4.921875</td>\n",
       "      <td>1</td>\n",
       "      <td>1</td>\n",
       "      <td>2</td>\n",
       "    </tr>\n",
       "    <tr>\n",
       "      <th>4</th>\n",
       "      <td>0</td>\n",
       "      <td>4</td>\n",
       "      <td>2.320653</td>\n",
       "      <td>1.837421</td>\n",
       "      <td>0.032604</td>\n",
       "      <td>999.0</td>\n",
       "      <td>4.980469</td>\n",
       "      <td>1</td>\n",
       "      <td>1</td>\n",
       "      <td>4</td>\n",
       "    </tr>\n",
       "    <tr>\n",
       "      <th>50</th>\n",
       "      <td>0</td>\n",
       "      <td>50</td>\n",
       "      <td>2.584265</td>\n",
       "      <td>-0.590144</td>\n",
       "      <td>1.448720</td>\n",
       "      <td>999.0</td>\n",
       "      <td>4.804688</td>\n",
       "      <td>1</td>\n",
       "      <td>1</td>\n",
       "      <td>50</td>\n",
       "    </tr>\n",
       "    <tr>\n",
       "      <th>52</th>\n",
       "      <td>0</td>\n",
       "      <td>52</td>\n",
       "      <td>4.013740</td>\n",
       "      <td>-0.580180</td>\n",
       "      <td>1.616523</td>\n",
       "      <td>999.0</td>\n",
       "      <td>4.921875</td>\n",
       "      <td>1</td>\n",
       "      <td>1</td>\n",
       "      <td>52</td>\n",
       "    </tr>\n",
       "    <tr>\n",
       "      <th>53</th>\n",
       "      <td>0</td>\n",
       "      <td>53</td>\n",
       "      <td>2.251015</td>\n",
       "      <td>-0.292679</td>\n",
       "      <td>1.549711</td>\n",
       "      <td>999.0</td>\n",
       "      <td>5.097656</td>\n",
       "      <td>1</td>\n",
       "      <td>1</td>\n",
       "      <td>53</td>\n",
       "    </tr>\n",
       "    <tr>\n",
       "      <th>...</th>\n",
       "      <td>...</td>\n",
       "      <td>...</td>\n",
       "      <td>...</td>\n",
       "      <td>...</td>\n",
       "      <td>...</td>\n",
       "      <td>...</td>\n",
       "      <td>...</td>\n",
       "      <td>...</td>\n",
       "      <td>...</td>\n",
       "      <td>...</td>\n",
       "    </tr>\n",
       "    <tr>\n",
       "      <th>154</th>\n",
       "      <td>0</td>\n",
       "      <td>154</td>\n",
       "      <td>2.026653</td>\n",
       "      <td>-2.021094</td>\n",
       "      <td>-1.062191</td>\n",
       "      <td>999.0</td>\n",
       "      <td>-0.410156</td>\n",
       "      <td>2</td>\n",
       "      <td>0</td>\n",
       "      <td>154</td>\n",
       "    </tr>\n",
       "    <tr>\n",
       "      <th>155</th>\n",
       "      <td>0</td>\n",
       "      <td>155</td>\n",
       "      <td>2.049097</td>\n",
       "      <td>-2.055119</td>\n",
       "      <td>-0.964472</td>\n",
       "      <td>999.0</td>\n",
       "      <td>-0.410156</td>\n",
       "      <td>2</td>\n",
       "      <td>0</td>\n",
       "      <td>155</td>\n",
       "    </tr>\n",
       "    <tr>\n",
       "      <th>156</th>\n",
       "      <td>0</td>\n",
       "      <td>156</td>\n",
       "      <td>2.222179</td>\n",
       "      <td>-2.426809</td>\n",
       "      <td>-0.693084</td>\n",
       "      <td>999.0</td>\n",
       "      <td>5.566406</td>\n",
       "      <td>2</td>\n",
       "      <td>0</td>\n",
       "      <td>156</td>\n",
       "    </tr>\n",
       "    <tr>\n",
       "      <th>157</th>\n",
       "      <td>0</td>\n",
       "      <td>157</td>\n",
       "      <td>2.563973</td>\n",
       "      <td>2.081842</td>\n",
       "      <td>-0.530004</td>\n",
       "      <td>999.0</td>\n",
       "      <td>-3.046875</td>\n",
       "      <td>2</td>\n",
       "      <td>0</td>\n",
       "      <td>157</td>\n",
       "    </tr>\n",
       "    <tr>\n",
       "      <th>158</th>\n",
       "      <td>0</td>\n",
       "      <td>158</td>\n",
       "      <td>2.303798</td>\n",
       "      <td>1.335547</td>\n",
       "      <td>-0.274176</td>\n",
       "      <td>999.0</td>\n",
       "      <td>4.804688</td>\n",
       "      <td>2</td>\n",
       "      <td>0</td>\n",
       "      <td>158</td>\n",
       "    </tr>\n",
       "  </tbody>\n",
       "</table>\n",
       "<p>234 rows × 10 columns</p>\n",
       "</div>"
      ],
      "text/plain": [
       "     entry  subentry    trk_pt   trk_eta   trk_phi  trk_d0    trk_z0  \\\n",
       "2        0         2  3.774908  1.815973 -0.240375   999.0  4.921875   \n",
       "4        0         4  2.320653  1.837421  0.032604   999.0  4.980469   \n",
       "50       0        50  2.584265 -0.590144  1.448720   999.0  4.804688   \n",
       "52       0        52  4.013740 -0.580180  1.616523   999.0  4.921875   \n",
       "53       0        53  2.251015 -0.292679  1.549711   999.0  5.097656   \n",
       "..     ...       ...       ...       ...       ...     ...       ...   \n",
       "154      0       154  2.026653 -2.021094 -1.062191   999.0 -0.410156   \n",
       "155      0       155  2.049097 -2.055119 -0.964472   999.0 -0.410156   \n",
       "156      0       156  2.222179 -2.426809 -0.693084   999.0  5.566406   \n",
       "157      0       157  2.563973  2.081842 -0.530004   999.0 -3.046875   \n",
       "158      0       158  2.303798  1.335547 -0.274176   999.0  4.804688   \n",
       "\n",
       "     trk_fake  is_pv  unique_trk_id  \n",
       "2           1      1              2  \n",
       "4           1      1              4  \n",
       "50          1      1             50  \n",
       "52          1      1             52  \n",
       "53          1      1             53  \n",
       "..        ...    ...            ...  \n",
       "154         2      0            154  \n",
       "155         2      0            155  \n",
       "156         2      0            156  \n",
       "157         2      0            157  \n",
       "158         2      0            158  \n",
       "\n",
       "[234 rows x 10 columns]"
      ]
     },
     "execution_count": 11,
     "metadata": {},
     "output_type": "execute_result"
    }
   ],
   "source": [
    "balanced_df"
   ]
  },
  {
   "cell_type": "code",
   "execution_count": 12,
   "metadata": {},
   "outputs": [
    {
     "data": {
      "text/html": [
       "<div>\n",
       "<style scoped>\n",
       "    .dataframe tbody tr th:only-of-type {\n",
       "        vertical-align: middle;\n",
       "    }\n",
       "\n",
       "    .dataframe tbody tr th {\n",
       "        vertical-align: top;\n",
       "    }\n",
       "\n",
       "    .dataframe thead th {\n",
       "        text-align: right;\n",
       "    }\n",
       "</style>\n",
       "<table border=\"1\" class=\"dataframe\">\n",
       "  <thead>\n",
       "    <tr style=\"text-align: right;\">\n",
       "      <th></th>\n",
       "      <th>entry</th>\n",
       "      <th>subentry</th>\n",
       "      <th>trk_pt</th>\n",
       "      <th>trk_eta</th>\n",
       "      <th>trk_phi</th>\n",
       "      <th>trk_d0</th>\n",
       "      <th>trk_z0</th>\n",
       "      <th>trk_fake</th>\n",
       "      <th>is_pv</th>\n",
       "      <th>unique_trk_id</th>\n",
       "    </tr>\n",
       "  </thead>\n",
       "  <tbody>\n",
       "    <tr>\n",
       "      <th>2</th>\n",
       "      <td>0</td>\n",
       "      <td>2</td>\n",
       "      <td>3.774908</td>\n",
       "      <td>1.815973</td>\n",
       "      <td>-0.240375</td>\n",
       "      <td>999.0</td>\n",
       "      <td>4.921875</td>\n",
       "      <td>1</td>\n",
       "      <td>1</td>\n",
       "      <td>2</td>\n",
       "    </tr>\n",
       "    <tr>\n",
       "      <th>4</th>\n",
       "      <td>0</td>\n",
       "      <td>4</td>\n",
       "      <td>2.320653</td>\n",
       "      <td>1.837421</td>\n",
       "      <td>0.032604</td>\n",
       "      <td>999.0</td>\n",
       "      <td>4.980469</td>\n",
       "      <td>1</td>\n",
       "      <td>1</td>\n",
       "      <td>4</td>\n",
       "    </tr>\n",
       "    <tr>\n",
       "      <th>50</th>\n",
       "      <td>0</td>\n",
       "      <td>50</td>\n",
       "      <td>2.584265</td>\n",
       "      <td>-0.590144</td>\n",
       "      <td>1.448720</td>\n",
       "      <td>999.0</td>\n",
       "      <td>4.804688</td>\n",
       "      <td>1</td>\n",
       "      <td>1</td>\n",
       "      <td>50</td>\n",
       "    </tr>\n",
       "    <tr>\n",
       "      <th>52</th>\n",
       "      <td>0</td>\n",
       "      <td>52</td>\n",
       "      <td>4.013740</td>\n",
       "      <td>-0.580180</td>\n",
       "      <td>1.616523</td>\n",
       "      <td>999.0</td>\n",
       "      <td>4.921875</td>\n",
       "      <td>1</td>\n",
       "      <td>1</td>\n",
       "      <td>52</td>\n",
       "    </tr>\n",
       "    <tr>\n",
       "      <th>53</th>\n",
       "      <td>0</td>\n",
       "      <td>53</td>\n",
       "      <td>2.251015</td>\n",
       "      <td>-0.292679</td>\n",
       "      <td>1.549711</td>\n",
       "      <td>999.0</td>\n",
       "      <td>5.097656</td>\n",
       "      <td>1</td>\n",
       "      <td>1</td>\n",
       "      <td>53</td>\n",
       "    </tr>\n",
       "    <tr>\n",
       "      <th>63</th>\n",
       "      <td>0</td>\n",
       "      <td>63</td>\n",
       "      <td>3.648375</td>\n",
       "      <td>-0.270140</td>\n",
       "      <td>1.969368</td>\n",
       "      <td>999.0</td>\n",
       "      <td>5.156250</td>\n",
       "      <td>1</td>\n",
       "      <td>1</td>\n",
       "      <td>63</td>\n",
       "    </tr>\n",
       "    <tr>\n",
       "      <th>65</th>\n",
       "      <td>0</td>\n",
       "      <td>65</td>\n",
       "      <td>3.591719</td>\n",
       "      <td>-0.147898</td>\n",
       "      <td>2.116640</td>\n",
       "      <td>999.0</td>\n",
       "      <td>4.921875</td>\n",
       "      <td>1</td>\n",
       "      <td>1</td>\n",
       "      <td>65</td>\n",
       "    </tr>\n",
       "    <tr>\n",
       "      <th>94</th>\n",
       "      <td>0</td>\n",
       "      <td>94</td>\n",
       "      <td>3.208672</td>\n",
       "      <td>-0.300160</td>\n",
       "      <td>-2.669568</td>\n",
       "      <td>999.0</td>\n",
       "      <td>5.097656</td>\n",
       "      <td>1</td>\n",
       "      <td>1</td>\n",
       "      <td>94</td>\n",
       "    </tr>\n",
       "    <tr>\n",
       "      <th>105</th>\n",
       "      <td>0</td>\n",
       "      <td>105</td>\n",
       "      <td>2.111450</td>\n",
       "      <td>-0.042956</td>\n",
       "      <td>-2.248784</td>\n",
       "      <td>999.0</td>\n",
       "      <td>4.980469</td>\n",
       "      <td>1</td>\n",
       "      <td>1</td>\n",
       "      <td>105</td>\n",
       "    </tr>\n",
       "    <tr>\n",
       "      <th>107</th>\n",
       "      <td>0</td>\n",
       "      <td>107</td>\n",
       "      <td>11.259640</td>\n",
       "      <td>-0.167189</td>\n",
       "      <td>-1.932643</td>\n",
       "      <td>999.0</td>\n",
       "      <td>4.980469</td>\n",
       "      <td>1</td>\n",
       "      <td>1</td>\n",
       "      <td>107</td>\n",
       "    </tr>\n",
       "    <tr>\n",
       "      <th>108</th>\n",
       "      <td>0</td>\n",
       "      <td>108</td>\n",
       "      <td>13.912287</td>\n",
       "      <td>-0.081940</td>\n",
       "      <td>-1.973552</td>\n",
       "      <td>999.0</td>\n",
       "      <td>5.039062</td>\n",
       "      <td>1</td>\n",
       "      <td>1</td>\n",
       "      <td>108</td>\n",
       "    </tr>\n",
       "    <tr>\n",
       "      <th>109</th>\n",
       "      <td>0</td>\n",
       "      <td>109</td>\n",
       "      <td>18.565226</td>\n",
       "      <td>-0.109158</td>\n",
       "      <td>-1.921790</td>\n",
       "      <td>999.0</td>\n",
       "      <td>4.980469</td>\n",
       "      <td>1</td>\n",
       "      <td>1</td>\n",
       "      <td>109</td>\n",
       "    </tr>\n",
       "    <tr>\n",
       "      <th>110</th>\n",
       "      <td>0</td>\n",
       "      <td>110</td>\n",
       "      <td>3.121171</td>\n",
       "      <td>-0.056610</td>\n",
       "      <td>-1.965802</td>\n",
       "      <td>999.0</td>\n",
       "      <td>4.980469</td>\n",
       "      <td>1</td>\n",
       "      <td>1</td>\n",
       "      <td>110</td>\n",
       "    </tr>\n",
       "    <tr>\n",
       "      <th>144</th>\n",
       "      <td>0</td>\n",
       "      <td>144</td>\n",
       "      <td>2.896427</td>\n",
       "      <td>1.503158</td>\n",
       "      <td>-0.835246</td>\n",
       "      <td>999.0</td>\n",
       "      <td>4.863281</td>\n",
       "      <td>1</td>\n",
       "      <td>1</td>\n",
       "      <td>144</td>\n",
       "    </tr>\n",
       "    <tr>\n",
       "      <th>146</th>\n",
       "      <td>0</td>\n",
       "      <td>146</td>\n",
       "      <td>1.996763</td>\n",
       "      <td>1.694764</td>\n",
       "      <td>-0.768866</td>\n",
       "      <td>999.0</td>\n",
       "      <td>4.980469</td>\n",
       "      <td>1</td>\n",
       "      <td>1</td>\n",
       "      <td>146</td>\n",
       "    </tr>\n",
       "    <tr>\n",
       "      <th>2</th>\n",
       "      <td>0</td>\n",
       "      <td>2</td>\n",
       "      <td>3.774908</td>\n",
       "      <td>1.815973</td>\n",
       "      <td>-0.240375</td>\n",
       "      <td>999.0</td>\n",
       "      <td>4.921875</td>\n",
       "      <td>1</td>\n",
       "      <td>1</td>\n",
       "      <td>2</td>\n",
       "    </tr>\n",
       "    <tr>\n",
       "      <th>4</th>\n",
       "      <td>0</td>\n",
       "      <td>4</td>\n",
       "      <td>2.320653</td>\n",
       "      <td>1.837421</td>\n",
       "      <td>0.032604</td>\n",
       "      <td>999.0</td>\n",
       "      <td>4.980469</td>\n",
       "      <td>1</td>\n",
       "      <td>1</td>\n",
       "      <td>4</td>\n",
       "    </tr>\n",
       "    <tr>\n",
       "      <th>50</th>\n",
       "      <td>0</td>\n",
       "      <td>50</td>\n",
       "      <td>2.584265</td>\n",
       "      <td>-0.590144</td>\n",
       "      <td>1.448720</td>\n",
       "      <td>999.0</td>\n",
       "      <td>4.804688</td>\n",
       "      <td>1</td>\n",
       "      <td>1</td>\n",
       "      <td>50</td>\n",
       "    </tr>\n",
       "    <tr>\n",
       "      <th>52</th>\n",
       "      <td>0</td>\n",
       "      <td>52</td>\n",
       "      <td>4.013740</td>\n",
       "      <td>-0.580180</td>\n",
       "      <td>1.616523</td>\n",
       "      <td>999.0</td>\n",
       "      <td>4.921875</td>\n",
       "      <td>1</td>\n",
       "      <td>1</td>\n",
       "      <td>52</td>\n",
       "    </tr>\n",
       "    <tr>\n",
       "      <th>53</th>\n",
       "      <td>0</td>\n",
       "      <td>53</td>\n",
       "      <td>2.251015</td>\n",
       "      <td>-0.292679</td>\n",
       "      <td>1.549711</td>\n",
       "      <td>999.0</td>\n",
       "      <td>5.097656</td>\n",
       "      <td>1</td>\n",
       "      <td>1</td>\n",
       "      <td>53</td>\n",
       "    </tr>\n",
       "  </tbody>\n",
       "</table>\n",
       "</div>"
      ],
      "text/plain": [
       "     entry  subentry     trk_pt   trk_eta   trk_phi  trk_d0    trk_z0  \\\n",
       "2        0         2   3.774908  1.815973 -0.240375   999.0  4.921875   \n",
       "4        0         4   2.320653  1.837421  0.032604   999.0  4.980469   \n",
       "50       0        50   2.584265 -0.590144  1.448720   999.0  4.804688   \n",
       "52       0        52   4.013740 -0.580180  1.616523   999.0  4.921875   \n",
       "53       0        53   2.251015 -0.292679  1.549711   999.0  5.097656   \n",
       "63       0        63   3.648375 -0.270140  1.969368   999.0  5.156250   \n",
       "65       0        65   3.591719 -0.147898  2.116640   999.0  4.921875   \n",
       "94       0        94   3.208672 -0.300160 -2.669568   999.0  5.097656   \n",
       "105      0       105   2.111450 -0.042956 -2.248784   999.0  4.980469   \n",
       "107      0       107  11.259640 -0.167189 -1.932643   999.0  4.980469   \n",
       "108      0       108  13.912287 -0.081940 -1.973552   999.0  5.039062   \n",
       "109      0       109  18.565226 -0.109158 -1.921790   999.0  4.980469   \n",
       "110      0       110   3.121171 -0.056610 -1.965802   999.0  4.980469   \n",
       "144      0       144   2.896427  1.503158 -0.835246   999.0  4.863281   \n",
       "146      0       146   1.996763  1.694764 -0.768866   999.0  4.980469   \n",
       "2        0         2   3.774908  1.815973 -0.240375   999.0  4.921875   \n",
       "4        0         4   2.320653  1.837421  0.032604   999.0  4.980469   \n",
       "50       0        50   2.584265 -0.590144  1.448720   999.0  4.804688   \n",
       "52       0        52   4.013740 -0.580180  1.616523   999.0  4.921875   \n",
       "53       0        53   2.251015 -0.292679  1.549711   999.0  5.097656   \n",
       "\n",
       "     trk_fake  is_pv  unique_trk_id  \n",
       "2           1      1              2  \n",
       "4           1      1              4  \n",
       "50          1      1             50  \n",
       "52          1      1             52  \n",
       "53          1      1             53  \n",
       "63          1      1             63  \n",
       "65          1      1             65  \n",
       "94          1      1             94  \n",
       "105         1      1            105  \n",
       "107         1      1            107  \n",
       "108         1      1            108  \n",
       "109         1      1            109  \n",
       "110         1      1            110  \n",
       "144         1      1            144  \n",
       "146         1      1            146  \n",
       "2           1      1              2  \n",
       "4           1      1              4  \n",
       "50          1      1             50  \n",
       "52          1      1             52  \n",
       "53          1      1             53  "
      ]
     },
     "execution_count": 12,
     "metadata": {},
     "output_type": "execute_result"
    }
   ],
   "source": [
    "balanced_df.head(20)"
   ]
  },
  {
   "cell_type": "markdown",
   "metadata": {},
   "source": [
    "So the problem with rebalancing them like this is that the \"entry\" and \"subentry\" and also the index of the dataframe repeat, Idk if this will be a problem though"
   ]
  },
  {
   "cell_type": "code",
   "execution_count": 13,
   "metadata": {},
   "outputs": [
    {
     "data": {
      "text/plain": [
       "(234, 10)"
      ]
     },
     "execution_count": 13,
     "metadata": {},
     "output_type": "execute_result"
    }
   ],
   "source": [
    "balanced_df.shape"
   ]
  },
  {
   "cell_type": "code",
   "execution_count": 14,
   "metadata": {},
   "outputs": [
    {
     "name": "stdout",
     "output_type": "stream",
     "text": [
      "(15, 10) 90 144\n"
     ]
    }
   ],
   "source": [
    "print(pv.shape, 6 * pv.shape[0], not_pv.shape[0])"
   ]
  },
  {
   "cell_type": "code",
   "execution_count": 15,
   "metadata": {},
   "outputs": [
    {
     "data": {
      "text/html": [
       "<div>\n",
       "<style scoped>\n",
       "    .dataframe tbody tr th:only-of-type {\n",
       "        vertical-align: middle;\n",
       "    }\n",
       "\n",
       "    .dataframe tbody tr th {\n",
       "        vertical-align: top;\n",
       "    }\n",
       "\n",
       "    .dataframe thead th {\n",
       "        text-align: right;\n",
       "    }\n",
       "</style>\n",
       "<table border=\"1\" class=\"dataframe\">\n",
       "  <thead>\n",
       "    <tr style=\"text-align: right;\">\n",
       "      <th></th>\n",
       "      <th>entry</th>\n",
       "      <th>unique_trk_id</th>\n",
       "    </tr>\n",
       "  </thead>\n",
       "  <tbody>\n",
       "    <tr>\n",
       "      <th>2</th>\n",
       "      <td>0</td>\n",
       "      <td>2</td>\n",
       "    </tr>\n",
       "    <tr>\n",
       "      <th>4</th>\n",
       "      <td>0</td>\n",
       "      <td>4</td>\n",
       "    </tr>\n",
       "    <tr>\n",
       "      <th>50</th>\n",
       "      <td>0</td>\n",
       "      <td>50</td>\n",
       "    </tr>\n",
       "    <tr>\n",
       "      <th>52</th>\n",
       "      <td>0</td>\n",
       "      <td>52</td>\n",
       "    </tr>\n",
       "    <tr>\n",
       "      <th>53</th>\n",
       "      <td>0</td>\n",
       "      <td>53</td>\n",
       "    </tr>\n",
       "    <tr>\n",
       "      <th>...</th>\n",
       "      <td>...</td>\n",
       "      <td>...</td>\n",
       "    </tr>\n",
       "    <tr>\n",
       "      <th>154</th>\n",
       "      <td>0</td>\n",
       "      <td>154</td>\n",
       "    </tr>\n",
       "    <tr>\n",
       "      <th>155</th>\n",
       "      <td>0</td>\n",
       "      <td>155</td>\n",
       "    </tr>\n",
       "    <tr>\n",
       "      <th>156</th>\n",
       "      <td>0</td>\n",
       "      <td>156</td>\n",
       "    </tr>\n",
       "    <tr>\n",
       "      <th>157</th>\n",
       "      <td>0</td>\n",
       "      <td>157</td>\n",
       "    </tr>\n",
       "    <tr>\n",
       "      <th>158</th>\n",
       "      <td>0</td>\n",
       "      <td>158</td>\n",
       "    </tr>\n",
       "  </tbody>\n",
       "</table>\n",
       "<p>234 rows × 2 columns</p>\n",
       "</div>"
      ],
      "text/plain": [
       "     entry  unique_trk_id\n",
       "2        0              2\n",
       "4        0              4\n",
       "50       0             50\n",
       "52       0             52\n",
       "53       0             53\n",
       "..     ...            ...\n",
       "154      0            154\n",
       "155      0            155\n",
       "156      0            156\n",
       "157      0            157\n",
       "158      0            158\n",
       "\n",
       "[234 rows x 2 columns]"
      ]
     },
     "execution_count": 15,
     "metadata": {},
     "output_type": "execute_result"
    }
   ],
   "source": [
    "balanced_df[[\"entry\", \"unique_trk_id\"]]"
   ]
  },
  {
   "cell_type": "code",
   "execution_count": 16,
   "metadata": {},
   "outputs": [
    {
     "data": {
      "text/html": [
       "<div>\n",
       "<style scoped>\n",
       "    .dataframe tbody tr th:only-of-type {\n",
       "        vertical-align: middle;\n",
       "    }\n",
       "\n",
       "    .dataframe tbody tr th {\n",
       "        vertical-align: top;\n",
       "    }\n",
       "\n",
       "    .dataframe thead th {\n",
       "        text-align: right;\n",
       "    }\n",
       "</style>\n",
       "<table border=\"1\" class=\"dataframe\">\n",
       "  <thead>\n",
       "    <tr style=\"text-align: right;\">\n",
       "      <th></th>\n",
       "      <th>entry</th>\n",
       "      <th>unique_trk_id_x</th>\n",
       "      <th>unique_trk_id_y</th>\n",
       "    </tr>\n",
       "  </thead>\n",
       "  <tbody>\n",
       "    <tr>\n",
       "      <th>0</th>\n",
       "      <td>0</td>\n",
       "      <td>2</td>\n",
       "      <td>2</td>\n",
       "    </tr>\n",
       "    <tr>\n",
       "      <th>1</th>\n",
       "      <td>0</td>\n",
       "      <td>2</td>\n",
       "      <td>4</td>\n",
       "    </tr>\n",
       "    <tr>\n",
       "      <th>2</th>\n",
       "      <td>0</td>\n",
       "      <td>2</td>\n",
       "      <td>50</td>\n",
       "    </tr>\n",
       "    <tr>\n",
       "      <th>3</th>\n",
       "      <td>0</td>\n",
       "      <td>2</td>\n",
       "      <td>52</td>\n",
       "    </tr>\n",
       "    <tr>\n",
       "      <th>4</th>\n",
       "      <td>0</td>\n",
       "      <td>2</td>\n",
       "      <td>53</td>\n",
       "    </tr>\n",
       "    <tr>\n",
       "      <th>...</th>\n",
       "      <td>...</td>\n",
       "      <td>...</td>\n",
       "      <td>...</td>\n",
       "    </tr>\n",
       "    <tr>\n",
       "      <th>54751</th>\n",
       "      <td>0</td>\n",
       "      <td>158</td>\n",
       "      <td>154</td>\n",
       "    </tr>\n",
       "    <tr>\n",
       "      <th>54752</th>\n",
       "      <td>0</td>\n",
       "      <td>158</td>\n",
       "      <td>155</td>\n",
       "    </tr>\n",
       "    <tr>\n",
       "      <th>54753</th>\n",
       "      <td>0</td>\n",
       "      <td>158</td>\n",
       "      <td>156</td>\n",
       "    </tr>\n",
       "    <tr>\n",
       "      <th>54754</th>\n",
       "      <td>0</td>\n",
       "      <td>158</td>\n",
       "      <td>157</td>\n",
       "    </tr>\n",
       "    <tr>\n",
       "      <th>54755</th>\n",
       "      <td>0</td>\n",
       "      <td>158</td>\n",
       "      <td>158</td>\n",
       "    </tr>\n",
       "  </tbody>\n",
       "</table>\n",
       "<p>54756 rows × 3 columns</p>\n",
       "</div>"
      ],
      "text/plain": [
       "       entry  unique_trk_id_x  unique_trk_id_y\n",
       "0          0                2                2\n",
       "1          0                2                4\n",
       "2          0                2               50\n",
       "3          0                2               52\n",
       "4          0                2               53\n",
       "...      ...              ...              ...\n",
       "54751      0              158              154\n",
       "54752      0              158              155\n",
       "54753      0              158              156\n",
       "54754      0              158              157\n",
       "54755      0              158              158\n",
       "\n",
       "[54756 rows x 3 columns]"
      ]
     },
     "execution_count": 16,
     "metadata": {},
     "output_type": "execute_result"
    }
   ],
   "source": [
    "balanced_df[[\"entry\", \"unique_trk_id\"]].merge(\n",
    "    balanced_df[[\"unique_trk_id\", \"entry\"]], on=\"entry\"\n",
    ")"
   ]
  },
  {
   "cell_type": "markdown",
   "metadata": {},
   "source": [
    "So actually the repeating indices are not a bug, they are desirable because they are used for the adjacency matrix"
   ]
  },
  {
   "cell_type": "code",
   "execution_count": 17,
   "metadata": {},
   "outputs": [],
   "source": [
    "combos = balanced_df[[\"entry\", \"unique_trk_id\"]].merge(\n",
    "    balanced_df[[\"unique_trk_id\", \"entry\"]], on=\"entry\", suffixes=(\"_1\", \"_2\")\n",
    ")"
   ]
  },
  {
   "cell_type": "code",
   "execution_count": 18,
   "metadata": {},
   "outputs": [
    {
     "data": {
      "text/html": [
       "<div>\n",
       "<style scoped>\n",
       "    .dataframe tbody tr th:only-of-type {\n",
       "        vertical-align: middle;\n",
       "    }\n",
       "\n",
       "    .dataframe tbody tr th {\n",
       "        vertical-align: top;\n",
       "    }\n",
       "\n",
       "    .dataframe thead th {\n",
       "        text-align: right;\n",
       "    }\n",
       "</style>\n",
       "<table border=\"1\" class=\"dataframe\">\n",
       "  <thead>\n",
       "    <tr style=\"text-align: right;\">\n",
       "      <th></th>\n",
       "      <th>entry</th>\n",
       "      <th>unique_trk_id_1</th>\n",
       "      <th>unique_trk_id_2</th>\n",
       "    </tr>\n",
       "  </thead>\n",
       "  <tbody>\n",
       "    <tr>\n",
       "      <th>0</th>\n",
       "      <td>0</td>\n",
       "      <td>2</td>\n",
       "      <td>2</td>\n",
       "    </tr>\n",
       "    <tr>\n",
       "      <th>1</th>\n",
       "      <td>0</td>\n",
       "      <td>2</td>\n",
       "      <td>4</td>\n",
       "    </tr>\n",
       "    <tr>\n",
       "      <th>2</th>\n",
       "      <td>0</td>\n",
       "      <td>2</td>\n",
       "      <td>50</td>\n",
       "    </tr>\n",
       "    <tr>\n",
       "      <th>3</th>\n",
       "      <td>0</td>\n",
       "      <td>2</td>\n",
       "      <td>52</td>\n",
       "    </tr>\n",
       "    <tr>\n",
       "      <th>4</th>\n",
       "      <td>0</td>\n",
       "      <td>2</td>\n",
       "      <td>53</td>\n",
       "    </tr>\n",
       "    <tr>\n",
       "      <th>5</th>\n",
       "      <td>0</td>\n",
       "      <td>2</td>\n",
       "      <td>63</td>\n",
       "    </tr>\n",
       "    <tr>\n",
       "      <th>6</th>\n",
       "      <td>0</td>\n",
       "      <td>2</td>\n",
       "      <td>65</td>\n",
       "    </tr>\n",
       "    <tr>\n",
       "      <th>7</th>\n",
       "      <td>0</td>\n",
       "      <td>2</td>\n",
       "      <td>94</td>\n",
       "    </tr>\n",
       "    <tr>\n",
       "      <th>8</th>\n",
       "      <td>0</td>\n",
       "      <td>2</td>\n",
       "      <td>105</td>\n",
       "    </tr>\n",
       "    <tr>\n",
       "      <th>9</th>\n",
       "      <td>0</td>\n",
       "      <td>2</td>\n",
       "      <td>107</td>\n",
       "    </tr>\n",
       "    <tr>\n",
       "      <th>10</th>\n",
       "      <td>0</td>\n",
       "      <td>2</td>\n",
       "      <td>108</td>\n",
       "    </tr>\n",
       "    <tr>\n",
       "      <th>11</th>\n",
       "      <td>0</td>\n",
       "      <td>2</td>\n",
       "      <td>109</td>\n",
       "    </tr>\n",
       "    <tr>\n",
       "      <th>12</th>\n",
       "      <td>0</td>\n",
       "      <td>2</td>\n",
       "      <td>110</td>\n",
       "    </tr>\n",
       "    <tr>\n",
       "      <th>13</th>\n",
       "      <td>0</td>\n",
       "      <td>2</td>\n",
       "      <td>144</td>\n",
       "    </tr>\n",
       "    <tr>\n",
       "      <th>14</th>\n",
       "      <td>0</td>\n",
       "      <td>2</td>\n",
       "      <td>146</td>\n",
       "    </tr>\n",
       "    <tr>\n",
       "      <th>15</th>\n",
       "      <td>0</td>\n",
       "      <td>2</td>\n",
       "      <td>2</td>\n",
       "    </tr>\n",
       "    <tr>\n",
       "      <th>16</th>\n",
       "      <td>0</td>\n",
       "      <td>2</td>\n",
       "      <td>4</td>\n",
       "    </tr>\n",
       "    <tr>\n",
       "      <th>17</th>\n",
       "      <td>0</td>\n",
       "      <td>2</td>\n",
       "      <td>50</td>\n",
       "    </tr>\n",
       "    <tr>\n",
       "      <th>18</th>\n",
       "      <td>0</td>\n",
       "      <td>2</td>\n",
       "      <td>52</td>\n",
       "    </tr>\n",
       "    <tr>\n",
       "      <th>19</th>\n",
       "      <td>0</td>\n",
       "      <td>2</td>\n",
       "      <td>53</td>\n",
       "    </tr>\n",
       "  </tbody>\n",
       "</table>\n",
       "</div>"
      ],
      "text/plain": [
       "    entry  unique_trk_id_1  unique_trk_id_2\n",
       "0       0                2                2\n",
       "1       0                2                4\n",
       "2       0                2               50\n",
       "3       0                2               52\n",
       "4       0                2               53\n",
       "5       0                2               63\n",
       "6       0                2               65\n",
       "7       0                2               94\n",
       "8       0                2              105\n",
       "9       0                2              107\n",
       "10      0                2              108\n",
       "11      0                2              109\n",
       "12      0                2              110\n",
       "13      0                2              144\n",
       "14      0                2              146\n",
       "15      0                2                2\n",
       "16      0                2                4\n",
       "17      0                2               50\n",
       "18      0                2               52\n",
       "19      0                2               53"
      ]
     },
     "execution_count": 18,
     "metadata": {},
     "output_type": "execute_result"
    }
   ],
   "source": [
    "combos.head(20)"
   ]
  },
  {
   "cell_type": "markdown",
   "metadata": {},
   "source": [
    "So I think if we wanted to cut the graph down such that only connections inside a radius of like 0.15 cm in z0 are included we can include this here by getting like z0_1 and z0_2 then take the difference and drop all connections that are like above the eps value"
   ]
  },
  {
   "cell_type": "code",
   "execution_count": 19,
   "metadata": {},
   "outputs": [],
   "source": [
    "combos = combos[combos[\"unique_trk_id_1\"] != combos[\"unique_trk_id_2\"]]"
   ]
  },
  {
   "cell_type": "code",
   "execution_count": null,
   "metadata": {},
   "outputs": [],
   "source": []
  },
  {
   "cell_type": "code",
   "execution_count": 20,
   "metadata": {},
   "outputs": [
    {
     "data": {
      "text/plain": [
       "array([  2,   2,   2, ..., 158, 158, 158])"
      ]
     },
     "execution_count": 20,
     "metadata": {},
     "output_type": "execute_result"
    }
   ],
   "source": [
    "combos[\"unique_trk_id_1\"].values"
   ]
  },
  {
   "cell_type": "code",
   "execution_count": 21,
   "metadata": {},
   "outputs": [],
   "source": [
    "connections = np.stack(\n",
    "    (combos[\"unique_trk_id_1\"].values, combos[\"unique_trk_id_2\"].values)\n",
    ")"
   ]
  },
  {
   "cell_type": "code",
   "execution_count": 22,
   "metadata": {},
   "outputs": [],
   "source": [
    "X = balanced_df[[\"trk_pt\", \"trk_eta\", \"trk_phi\", \"trk_z0\"]].values"
   ]
  },
  {
   "cell_type": "markdown",
   "metadata": {},
   "source": []
  },
  {
   "cell_type": "code",
   "execution_count": 24,
   "metadata": {},
   "outputs": [],
   "source": [
    "def my_print(f, x, edge_index, y):\n",
    "    print(f\"{f} {x} {edge_index} {y}\")"
   ]
  },
  {
   "cell_type": "code",
   "execution_count": 25,
   "metadata": {},
   "outputs": [
    {
     "name": "stdout",
     "output_type": "stream",
     "text": [
      "test m1 m2 m3\n"
     ]
    }
   ],
   "source": [
    "my_print(\"test\", **dict(x=\"m1\", edge_index=\"m2\", y=\"m3\"))"
   ]
  },
  {
   "cell_type": "code",
   "execution_count": 26,
   "metadata": {},
   "outputs": [
    {
     "name": "stdout",
     "output_type": "stream",
     "text": [
      "test m1 m2 m3\n"
     ]
    }
   ],
   "source": [
    "my_print(\"test\", x=\"m1\", edge_index=\"m2\", y=\"m3\")"
   ]
  },
  {
   "cell_type": "code",
   "execution_count": 27,
   "metadata": {},
   "outputs": [],
   "source": [
    "import networkx as nx"
   ]
  },
  {
   "cell_type": "code",
   "execution_count": 28,
   "metadata": {},
   "outputs": [],
   "source": [
    "G = nx.Graph()"
   ]
  },
  {
   "cell_type": "code",
   "execution_count": 29,
   "metadata": {},
   "outputs": [],
   "source": [
    "my_list_test = [\n",
    "    {\n",
    "        i: {\"pt\": X[i, 0], \"eta\": X[i, 1], \"phi\": X[i, 2], \"z0\": X[i, 3]}\n",
    "        for i in range(X.shape[0])\n",
    "    }\n",
    "]"
   ]
  },
  {
   "cell_type": "code",
   "execution_count": 30,
   "metadata": {},
   "outputs": [],
   "source": [
    "xdf = pd.DataFrame(X, columns=[\"pt\", \"eta\", \"phi\", \"z0\"])"
   ]
  },
  {
   "cell_type": "code",
   "execution_count": 31,
   "metadata": {},
   "outputs": [],
   "source": [
    "nx.set_node_attributes(G, pd.Series(xdf.pt, index=xdf.index).to_dict(), \"pt\")\n",
    "nx.set_node_attributes(G, pd.Series(xdf.eta, index=xdf.index).to_dict(), \"eta\")\n",
    "nx.set_node_attributes(G, pd.Series(xdf.phi, index=xdf.index).to_dict(), \"phi\")\n",
    "nx.set_node_attributes(G, pd.Series(xdf.z0, index=xdf.index).to_dict(), \"z0\")"
   ]
  },
  {
   "cell_type": "code",
   "execution_count": 32,
   "metadata": {},
   "outputs": [
    {
     "data": {
      "text/plain": [
       "NodeDataView({})"
      ]
     },
     "execution_count": 32,
     "metadata": {},
     "output_type": "execute_result"
    }
   ],
   "source": [
    "G.nodes.data()"
   ]
  },
  {
   "cell_type": "code",
   "execution_count": 33,
   "metadata": {},
   "outputs": [
    {
     "ename": "TypeError",
     "evalue": "object of type 'int' has no len()",
     "output_type": "error",
     "traceback": [
      "\u001b[0;31m---------------------------------------------------------------------------\u001b[0m",
      "\u001b[0;31mTypeError\u001b[0m                                 Traceback (most recent call last)",
      "\u001b[1;32m/home/lucas/Documents/Dropbox/RA/GNN4PrimaryVertexing/understanding the graph building.ipynb Cell 38\u001b[0m in \u001b[0;36m<cell line: 1>\u001b[0;34m()\u001b[0m\n\u001b[0;32m----> <a href='vscode-notebook-cell://ssh-remote%2Bironwolf/home/lucas/Documents/Dropbox/RA/GNN4PrimaryVertexing/understanding%20the%20graph%20building.ipynb#X52sdnNjb2RlLXJlbW90ZQ%3D%3D?line=0'>1</a>\u001b[0m G\u001b[39m.\u001b[39;49madd_edges_from(my_list_test[\u001b[39m0\u001b[39;49m])\n",
      "File \u001b[0;32m~/miniconda3/envs/py38torch11/lib/python3.8/site-packages/networkx/classes/graph.py:933\u001b[0m, in \u001b[0;36mGraph.add_edges_from\u001b[0;34m(self, ebunch_to_add, **attr)\u001b[0m\n\u001b[1;32m    895\u001b[0m \u001b[39m\"\"\"Add all the edges in ebunch_to_add.\u001b[39;00m\n\u001b[1;32m    896\u001b[0m \n\u001b[1;32m    897\u001b[0m \u001b[39mParameters\u001b[39;00m\n\u001b[0;32m   (...)\u001b[0m\n\u001b[1;32m    930\u001b[0m \u001b[39m>>> G.add_edges_from([(3, 4), (1, 4)], label=\"WN2898\")\u001b[39;00m\n\u001b[1;32m    931\u001b[0m \u001b[39m\"\"\"\u001b[39;00m\n\u001b[1;32m    932\u001b[0m \u001b[39mfor\u001b[39;00m e \u001b[39min\u001b[39;00m ebunch_to_add:\n\u001b[0;32m--> 933\u001b[0m     ne \u001b[39m=\u001b[39m \u001b[39mlen\u001b[39;49m(e)\n\u001b[1;32m    934\u001b[0m     \u001b[39mif\u001b[39;00m ne \u001b[39m==\u001b[39m \u001b[39m3\u001b[39m:\n\u001b[1;32m    935\u001b[0m         u, v, dd \u001b[39m=\u001b[39m e\n",
      "\u001b[0;31mTypeError\u001b[0m: object of type 'int' has no len()"
     ]
    }
   ],
   "source": [
    "G.add_edges_from(my_list_test[0])"
   ]
  },
  {
   "cell_type": "code",
   "execution_count": null,
   "metadata": {},
   "outputs": [],
   "source": [
    "G.add_nodes_from(X[:, 0])"
   ]
  },
  {
   "cell_type": "code",
   "execution_count": 34,
   "metadata": {},
   "outputs": [],
   "source": [
    "G.add_edges_from(connections.T)"
   ]
  },
  {
   "cell_type": "code",
   "execution_count": 35,
   "metadata": {},
   "outputs": [
    {
     "data": {
      "image/png": "[encoded data removed]",
      "text/plain": [
       "<Figure size 640x480 with 1 Axes>"
      ]
     },
     "metadata": {},
     "output_type": "display_data"
    }
   ],
   "source": [
    "nx.draw(G, with_labels=True)"
   ]
  },
  {
   "cell_type": "code",
   "execution_count": 36,
   "metadata": {},
   "outputs": [
    {
     "data": {
      "image/png": "[encoded data removed]",
      "text/plain": [
       "<Figure size 640x480 with 1 Axes>"
      ]
     },
     "metadata": {},
     "output_type": "display_data"
    }
   ],
   "source": [
    "nx.draw_spectral(G, node_color=\"black\", node_size=100, width=3)"
   ]
  },
  {
   "cell_type": "code",
   "execution_count": 37,
   "metadata": {},
   "outputs": [
    {
     "data": {
      "text/html": [
       "<div>\n",
       "<style scoped>\n",
       "    .dataframe tbody tr th:only-of-type {\n",
       "        vertical-align: middle;\n",
       "    }\n",
       "\n",
       "    .dataframe tbody tr th {\n",
       "        vertical-align: top;\n",
       "    }\n",
       "\n",
       "    .dataframe thead th {\n",
       "        text-align: right;\n",
       "    }\n",
       "</style>\n",
       "<table border=\"1\" class=\"dataframe\">\n",
       "  <thead>\n",
       "    <tr style=\"text-align: right;\">\n",
       "      <th></th>\n",
       "      <th>source</th>\n",
       "      <th>target</th>\n",
       "      <th>weight</th>\n",
       "    </tr>\n",
       "  </thead>\n",
       "  <tbody>\n",
       "    <tr>\n",
       "      <th>0</th>\n",
       "      <td>0</td>\n",
       "      <td>1</td>\n",
       "      <td>100</td>\n",
       "    </tr>\n",
       "    <tr>\n",
       "      <th>1</th>\n",
       "      <td>1</td>\n",
       "      <td>2</td>\n",
       "      <td>50</td>\n",
       "    </tr>\n",
       "  </tbody>\n",
       "</table>\n",
       "</div>"
      ],
      "text/plain": [
       "   source  target  weight\n",
       "0       0       1     100\n",
       "1       1       2      50"
      ]
     },
     "execution_count": 37,
     "metadata": {},
     "output_type": "execute_result"
    }
   ],
   "source": [
    "pd.DataFrame({\"source\": [0, 1], \"target\": [1, 2], \"weight\": [100, 50]})"
   ]
  },
  {
   "cell_type": "code",
   "execution_count": 38,
   "metadata": {},
   "outputs": [
    {
     "data": {
      "text/plain": [
       "array([[  2,   2,   2, ..., 158, 158, 158],\n",
       "       [  4,  50,  52, ..., 155, 156, 157]])"
      ]
     },
     "execution_count": 38,
     "metadata": {},
     "output_type": "execute_result"
    }
   ],
   "source": [
    "connections"
   ]
  },
  {
   "cell_type": "code",
   "execution_count": 39,
   "metadata": {},
   "outputs": [],
   "source": [
    "edges = pd.DataFrame({\"source\": connections[0], \"target\": connections[1]})"
   ]
  },
  {
   "cell_type": "code",
   "execution_count": 40,
   "metadata": {},
   "outputs": [],
   "source": [
    "xdf[\"node\"] = range(X.shape[0])"
   ]
  },
  {
   "cell_type": "code",
   "execution_count": 41,
   "metadata": {},
   "outputs": [
    {
     "data": {
      "text/html": [
       "<div>\n",
       "<style scoped>\n",
       "    .dataframe tbody tr th:only-of-type {\n",
       "        vertical-align: middle;\n",
       "    }\n",
       "\n",
       "    .dataframe tbody tr th {\n",
       "        vertical-align: top;\n",
       "    }\n",
       "\n",
       "    .dataframe thead th {\n",
       "        text-align: right;\n",
       "    }\n",
       "</style>\n",
       "<table border=\"1\" class=\"dataframe\">\n",
       "  <thead>\n",
       "    <tr style=\"text-align: right;\">\n",
       "      <th></th>\n",
       "      <th>pt</th>\n",
       "      <th>eta</th>\n",
       "      <th>phi</th>\n",
       "      <th>z0</th>\n",
       "      <th>node</th>\n",
       "    </tr>\n",
       "  </thead>\n",
       "  <tbody>\n",
       "    <tr>\n",
       "      <th>0</th>\n",
       "      <td>3.774908</td>\n",
       "      <td>1.815973</td>\n",
       "      <td>-0.240375</td>\n",
       "      <td>4.921875</td>\n",
       "      <td>0</td>\n",
       "    </tr>\n",
       "    <tr>\n",
       "      <th>1</th>\n",
       "      <td>2.320653</td>\n",
       "      <td>1.837421</td>\n",
       "      <td>0.032604</td>\n",
       "      <td>4.980469</td>\n",
       "      <td>1</td>\n",
       "    </tr>\n",
       "    <tr>\n",
       "      <th>2</th>\n",
       "      <td>2.584265</td>\n",
       "      <td>-0.590144</td>\n",
       "      <td>1.448720</td>\n",
       "      <td>4.804688</td>\n",
       "      <td>2</td>\n",
       "    </tr>\n",
       "    <tr>\n",
       "      <th>3</th>\n",
       "      <td>4.013740</td>\n",
       "      <td>-0.580180</td>\n",
       "      <td>1.616523</td>\n",
       "      <td>4.921875</td>\n",
       "      <td>3</td>\n",
       "    </tr>\n",
       "    <tr>\n",
       "      <th>4</th>\n",
       "      <td>2.251015</td>\n",
       "      <td>-0.292679</td>\n",
       "      <td>1.549711</td>\n",
       "      <td>5.097656</td>\n",
       "      <td>4</td>\n",
       "    </tr>\n",
       "    <tr>\n",
       "      <th>...</th>\n",
       "      <td>...</td>\n",
       "      <td>...</td>\n",
       "      <td>...</td>\n",
       "      <td>...</td>\n",
       "      <td>...</td>\n",
       "    </tr>\n",
       "    <tr>\n",
       "      <th>229</th>\n",
       "      <td>2.026653</td>\n",
       "      <td>-2.021094</td>\n",
       "      <td>-1.062191</td>\n",
       "      <td>-0.410156</td>\n",
       "      <td>229</td>\n",
       "    </tr>\n",
       "    <tr>\n",
       "      <th>230</th>\n",
       "      <td>2.049097</td>\n",
       "      <td>-2.055119</td>\n",
       "      <td>-0.964472</td>\n",
       "      <td>-0.410156</td>\n",
       "      <td>230</td>\n",
       "    </tr>\n",
       "    <tr>\n",
       "      <th>231</th>\n",
       "      <td>2.222179</td>\n",
       "      <td>-2.426809</td>\n",
       "      <td>-0.693084</td>\n",
       "      <td>5.566406</td>\n",
       "      <td>231</td>\n",
       "    </tr>\n",
       "    <tr>\n",
       "      <th>232</th>\n",
       "      <td>2.563973</td>\n",
       "      <td>2.081842</td>\n",
       "      <td>-0.530004</td>\n",
       "      <td>-3.046875</td>\n",
       "      <td>232</td>\n",
       "    </tr>\n",
       "    <tr>\n",
       "      <th>233</th>\n",
       "      <td>2.303798</td>\n",
       "      <td>1.335547</td>\n",
       "      <td>-0.274176</td>\n",
       "      <td>4.804688</td>\n",
       "      <td>233</td>\n",
       "    </tr>\n",
       "  </tbody>\n",
       "</table>\n",
       "<p>234 rows × 5 columns</p>\n",
       "</div>"
      ],
      "text/plain": [
       "           pt       eta       phi        z0  node\n",
       "0    3.774908  1.815973 -0.240375  4.921875     0\n",
       "1    2.320653  1.837421  0.032604  4.980469     1\n",
       "2    2.584265 -0.590144  1.448720  4.804688     2\n",
       "3    4.013740 -0.580180  1.616523  4.921875     3\n",
       "4    2.251015 -0.292679  1.549711  5.097656     4\n",
       "..        ...       ...       ...       ...   ...\n",
       "229  2.026653 -2.021094 -1.062191 -0.410156   229\n",
       "230  2.049097 -2.055119 -0.964472 -0.410156   230\n",
       "231  2.222179 -2.426809 -0.693084  5.566406   231\n",
       "232  2.563973  2.081842 -0.530004 -3.046875   232\n",
       "233  2.303798  1.335547 -0.274176  4.804688   233\n",
       "\n",
       "[234 rows x 5 columns]"
      ]
     },
     "execution_count": 41,
     "metadata": {},
     "output_type": "execute_result"
    }
   ],
   "source": [
    "xdf"
   ]
  },
  {
   "cell_type": "code",
   "execution_count": 42,
   "metadata": {},
   "outputs": [],
   "source": [
    "G = nx.from_pandas_edgelist(edges, source=\"source\", target=\"target\")"
   ]
  },
  {
   "cell_type": "code",
   "execution_count": 43,
   "metadata": {},
   "outputs": [],
   "source": [
    "nx.set_node_attributes(G, pd.Series(xdf.pt, index=xdf.index).to_dict(), \"pt\")\n",
    "nx.set_node_attributes(G, pd.Series(xdf.eta, index=xdf.index).to_dict(), \"eta\")\n",
    "nx.set_node_attributes(G, pd.Series(xdf.phi, index=xdf.index).to_dict(), \"phi\")\n",
    "nx.set_node_attributes(G, pd.Series(xdf.z0, index=xdf.index).to_dict(), \"z0\")"
   ]
  },
  {
   "cell_type": "code",
   "execution_count": null,
   "metadata": {},
   "outputs": [],
   "source": []
  },
  {
   "cell_type": "code",
   "execution_count": 44,
   "metadata": {},
   "outputs": [
    {
     "data": {
      "image/png": "[encoded data removed]",
      "text/plain": [
       "<Figure size 640x480 with 1 Axes>"
      ]
     },
     "metadata": {},
     "output_type": "display_data"
    }
   ],
   "source": [
    "nx.draw(G)"
   ]
  },
  {
   "cell_type": "markdown",
   "metadata": {},
   "source": [
    "# plotly graph"
   ]
  },
  {
   "cell_type": "markdown",
   "metadata": {},
   "source": [
    "**SAVE FOR SOME OTHER TIME**"
   ]
  },
  {
   "cell_type": "code",
   "execution_count": 45,
   "metadata": {},
   "outputs": [
    {
     "ename": "ModuleNotFoundError",
     "evalue": "No module named 'plotly'",
     "output_type": "error",
     "traceback": [
      "\u001b[0;31m---------------------------------------------------------------------------\u001b[0m",
      "\u001b[0;31mModuleNotFoundError\u001b[0m                       Traceback (most recent call last)",
      "\u001b[1;32m/home/lucas/Documents/Dropbox/RA/GNN4PrimaryVertexing/understanding the graph building.ipynb Cell 54\u001b[0m in \u001b[0;36m<cell line: 1>\u001b[0;34m()\u001b[0m\n\u001b[0;32m----> <a href='vscode-notebook-cell://ssh-remote%2Bironwolf/home/lucas/Documents/Dropbox/RA/GNN4PrimaryVertexing/understanding%20the%20graph%20building.ipynb#Y104sdnNjb2RlLXJlbW90ZQ%3D%3D?line=0'>1</a>\u001b[0m \u001b[39mimport\u001b[39;00m \u001b[39mplotly\u001b[39;00m\u001b[39m.\u001b[39;00m\u001b[39mgraph_objects\u001b[39;00m \u001b[39mas\u001b[39;00m \u001b[39mgo\u001b[39;00m\n",
      "\u001b[0;31mModuleNotFoundError\u001b[0m: No module named 'plotly'"
     ]
    }
   ],
   "source": [
    "import plotly.graph_objects as go"
   ]
  },
  {
   "cell_type": "code",
   "execution_count": null,
   "metadata": {},
   "outputs": [],
   "source": [
    "gt = nx.random_geometric_graph(200, 0.125)"
   ]
  },
  {
   "cell_type": "code",
   "execution_count": 46,
   "metadata": {},
   "outputs": [
    {
     "ename": "NameError",
     "evalue": "name 'gt' is not defined",
     "output_type": "error",
     "traceback": [
      "\u001b[0;31m---------------------------------------------------------------------------\u001b[0m",
      "\u001b[0;31mNameError\u001b[0m                                 Traceback (most recent call last)",
      "\u001b[1;32m/home/lucas/Documents/Dropbox/RA/GNN4PrimaryVertexing/understanding the graph building.ipynb Cell 56\u001b[0m in \u001b[0;36m<cell line: 1>\u001b[0;34m()\u001b[0m\n\u001b[0;32m----> <a href='vscode-notebook-cell://ssh-remote%2Bironwolf/home/lucas/Documents/Dropbox/RA/GNN4PrimaryVertexing/understanding%20the%20graph%20building.ipynb#Y106sdnNjb2RlLXJlbW90ZQ%3D%3D?line=0'>1</a>\u001b[0m gt\u001b[39m.\u001b[39mnodes[\u001b[39m\"\u001b[39m\u001b[39mpos\u001b[39m\u001b[39m\"\u001b[39m]\n",
      "\u001b[0;31mNameError\u001b[0m: name 'gt' is not defined"
     ]
    }
   ],
   "source": [
    "gt.nodes[\"pos\"]"
   ]
  },
  {
   "cell_type": "code",
   "execution_count": 47,
   "metadata": {},
   "outputs": [
    {
     "ename": "KeyError",
     "evalue": "('pt', 'eta', 'phi', 'z0')",
     "output_type": "error",
     "traceback": [
      "\u001b[0;31m---------------------------------------------------------------------------\u001b[0m",
      "\u001b[0;31mKeyError\u001b[0m                                  Traceback (most recent call last)",
      "\u001b[1;32m/home/lucas/Documents/Dropbox/RA/GNN4PrimaryVertexing/understanding the graph building.ipynb Cell 57\u001b[0m in \u001b[0;36m<cell line: 1>\u001b[0;34m()\u001b[0m\n\u001b[0;32m----> <a href='vscode-notebook-cell://ssh-remote%2Bironwolf/home/lucas/Documents/Dropbox/RA/GNN4PrimaryVertexing/understanding%20the%20graph%20building.ipynb#Y110sdnNjb2RlLXJlbW90ZQ%3D%3D?line=0'>1</a>\u001b[0m G\u001b[39m.\u001b[39;49mnodes[\u001b[39m2\u001b[39;49m][\u001b[39m\"\u001b[39;49m\u001b[39mpt\u001b[39;49m\u001b[39m\"\u001b[39;49m, \u001b[39m\"\u001b[39;49m\u001b[39meta\u001b[39;49m\u001b[39m\"\u001b[39;49m, \u001b[39m\"\u001b[39;49m\u001b[39mphi\u001b[39;49m\u001b[39m\"\u001b[39;49m, \u001b[39m\"\u001b[39;49m\u001b[39mz0\u001b[39;49m\u001b[39m\"\u001b[39;49m]\n",
      "\u001b[0;31mKeyError\u001b[0m: ('pt', 'eta', 'phi', 'z0')"
     ]
    }
   ],
   "source": [
    "G.nodes[2][\"pt\", \"eta\", \"phi\", \"z0\"]"
   ]
  },
  {
   "cell_type": "code",
   "execution_count": 48,
   "metadata": {},
   "outputs": [
    {
     "ename": "TypeError",
     "evalue": "cannot unpack non-iterable float object",
     "output_type": "error",
     "traceback": [
      "\u001b[0;31m---------------------------------------------------------------------------\u001b[0m",
      "\u001b[0;31mTypeError\u001b[0m                                 Traceback (most recent call last)",
      "\u001b[1;32m/home/lucas/Documents/Dropbox/RA/GNN4PrimaryVertexing/understanding the graph building.ipynb Cell 58\u001b[0m in \u001b[0;36m<cell line: 3>\u001b[0;34m()\u001b[0m\n\u001b[1;32m      <a href='vscode-notebook-cell://ssh-remote%2Bironwolf/home/lucas/Documents/Dropbox/RA/GNN4PrimaryVertexing/understanding%20the%20graph%20building.ipynb#Y111sdnNjb2RlLXJlbW90ZQ%3D%3D?line=1'>2</a>\u001b[0m edge_y \u001b[39m=\u001b[39m []\n\u001b[1;32m      <a href='vscode-notebook-cell://ssh-remote%2Bironwolf/home/lucas/Documents/Dropbox/RA/GNN4PrimaryVertexing/understanding%20the%20graph%20building.ipynb#Y111sdnNjb2RlLXJlbW90ZQ%3D%3D?line=2'>3</a>\u001b[0m \u001b[39mfor\u001b[39;00m edge \u001b[39min\u001b[39;00m G\u001b[39m.\u001b[39medges():\n\u001b[1;32m      <a href='vscode-notebook-cell://ssh-remote%2Bironwolf/home/lucas/Documents/Dropbox/RA/GNN4PrimaryVertexing/understanding%20the%20graph%20building.ipynb#Y111sdnNjb2RlLXJlbW90ZQ%3D%3D?line=3'>4</a>\u001b[0m     \u001b[39m# print(edge[0])\u001b[39;00m\n\u001b[0;32m----> <a href='vscode-notebook-cell://ssh-remote%2Bironwolf/home/lucas/Documents/Dropbox/RA/GNN4PrimaryVertexing/understanding%20the%20graph%20building.ipynb#Y111sdnNjb2RlLXJlbW90ZQ%3D%3D?line=5'>6</a>\u001b[0m     x0, y0 \u001b[39m=\u001b[39m G\u001b[39m.\u001b[39mnodes[edge[\u001b[39m0\u001b[39m]][\u001b[39m\"\u001b[39m\u001b[39mpt\u001b[39m\u001b[39m\"\u001b[39m]\n\u001b[1;32m      <a href='vscode-notebook-cell://ssh-remote%2Bironwolf/home/lucas/Documents/Dropbox/RA/GNN4PrimaryVertexing/understanding%20the%20graph%20building.ipynb#Y111sdnNjb2RlLXJlbW90ZQ%3D%3D?line=6'>7</a>\u001b[0m     x1, y1 \u001b[39m=\u001b[39m G\u001b[39m.\u001b[39mnodes[edge[\u001b[39m1\u001b[39m]][\u001b[39m\"\u001b[39m\u001b[39mpt\u001b[39m\u001b[39m\"\u001b[39m]\n\u001b[1;32m      <a href='vscode-notebook-cell://ssh-remote%2Bironwolf/home/lucas/Documents/Dropbox/RA/GNN4PrimaryVertexing/understanding%20the%20graph%20building.ipynb#Y111sdnNjb2RlLXJlbW90ZQ%3D%3D?line=8'>9</a>\u001b[0m     edge_x\u001b[39m.\u001b[39mappend(x0)\n",
      "\u001b[0;31mTypeError\u001b[0m: cannot unpack non-iterable float object"
     ]
    }
   ],
   "source": [
    "edge_x = []\n",
    "edge_y = []\n",
    "for edge in G.edges():\n",
    "    # print(edge[0])\n",
    "\n",
    "    x0, y0 = G.nodes[edge[0]][\"pt\"]\n",
    "    x1, y1 = G.nodes[edge[1]][\"pt\"]\n",
    "\n",
    "    edge_x.append(x0)\n",
    "    edge_x.append(x1)\n",
    "    edge_x.append(None)\n",
    "\n",
    "    edge_y.append(y0)\n",
    "    edge_y.append(y1)\n",
    "    edge_y.append(None)"
   ]
  },
  {
   "cell_type": "code",
   "execution_count": null,
   "metadata": {},
   "outputs": [],
   "source": [
    "fig = go.Figure(data=[edgesa])"
   ]
  },
  {
   "cell_type": "code",
   "execution_count": null,
   "metadata": {},
   "outputs": [],
   "source": []
  },
  {
   "cell_type": "markdown",
   "metadata": {},
   "source": []
  },
  {
   "cell_type": "markdown",
   "metadata": {},
   "source": [
    "# load a grph from a npz fileX \n"
   ]
  },
  {
   "cell_type": "code",
   "execution_count": 49,
   "metadata": {},
   "outputs": [],
   "source": [
    "G1 = np.load(\"built_graphs/rebalanced/graph_0.npz\")"
   ]
  },
  {
   "cell_type": "code",
   "execution_count": null,
   "metadata": {},
   "outputs": [],
   "source": []
  },
  {
   "cell_type": "markdown",
   "metadata": {},
   "source": [
    "# Build a graph with a radius parameter"
   ]
  },
  {
   "cell_type": "code",
   "execution_count": 54,
   "metadata": {},
   "outputs": [],
   "source": [
    "def build_graph(\n",
    "    event: pd.DataFrame, radius: float = 0.15\n",
    ") -> (np.array, np.array, np.array):\n",
    "    \"\"\"\n",
    "    Builds a graph from the event dataframe.\n",
    "\n",
    "    Parameters :\n",
    "        event: pd.DataFrame containing the event data\n",
    "        radius: float the maximum distance in z0 between two tracks to be connected\n",
    "    returns:\n",
    "        X: np.array containing node features\n",
    "        edge_index: np.array containing the edges of nodes\n",
    "        y: np.array containing the labels of the nodes\n",
    "\n",
    "    \"\"\"\n",
    "\n",
    "    event[\"unique_trk_id\"] = range(event.shape[0])\n",
    "\n",
    "    # On average 85% of samples are not primary vertex, repeat true vertices to rebalance\n",
    "    pv = event[event[\"is_pv\"] == 1]\n",
    "    not_pv = event[event[\"is_pv\"] == 0]\n",
    "\n",
    "    balanced_df = pd.concat([pd.concat([pv] * 6), not_pv])\n",
    "\n",
    "    # Fully connected edges\n",
    "    combos = balanced_df[[\"entry\", \"unique_trk_id\", \"trk_z0\"]].merge(\n",
    "        balanced_df[[\"unique_trk_id\", \"entry\", \"trk_z0\"]],\n",
    "        on=\"entry\",\n",
    "        suffixes=(\"_1\", \"_2\"),\n",
    "    )\n",
    "\n",
    "    # remove node connections to itself\n",
    "    combos = combos[combos[\"unique_trk_id_1\"] != combos[\"unique_trk_id_2\"]]\n",
    "\n",
    "    # remove connections that are too far apart in z0 space\n",
    "    combos[\"abs_diff\"] = np.abs(combos[\"trk_z0_1\"] - combos[\"trk_z0_2\"])\n",
    "\n",
    "    combos = combos[combos[\"abs_diff\"] < radius]\n",
    "\n",
    "    # edge indices in the correct format\n",
    "    connections = np.stack(\n",
    "        (combos[\"unique_trk_id_1\"].values, combos[\"unique_trk_id_2\"].values)\n",
    "    )\n",
    "\n",
    "    X = balanced_df[[\"trk_pt\", \"trk_eta\", \"trk_phi\", \"trk_z0\"]].values\n",
    "    y = balanced_df[[\"is_pv\"]].values\n",
    "\n",
    "    return X, connections, y"
   ]
  },
  {
   "cell_type": "markdown",
   "metadata": {},
   "source": [
    "### Test the new graph building"
   ]
  },
  {
   "cell_type": "code",
   "execution_count": 56,
   "metadata": {},
   "outputs": [
    {
     "data": {
      "text/html": [
       "<div>\n",
       "<style scoped>\n",
       "    .dataframe tbody tr th:only-of-type {\n",
       "        vertical-align: middle;\n",
       "    }\n",
       "\n",
       "    .dataframe tbody tr th {\n",
       "        vertical-align: top;\n",
       "    }\n",
       "\n",
       "    .dataframe thead th {\n",
       "        text-align: right;\n",
       "    }\n",
       "</style>\n",
       "<table border=\"1\" class=\"dataframe\">\n",
       "  <thead>\n",
       "    <tr style=\"text-align: right;\">\n",
       "      <th></th>\n",
       "      <th>entry</th>\n",
       "      <th>subentry</th>\n",
       "      <th>trk_pt</th>\n",
       "      <th>trk_eta</th>\n",
       "      <th>trk_phi</th>\n",
       "      <th>trk_d0</th>\n",
       "      <th>trk_z0</th>\n",
       "      <th>trk_fake</th>\n",
       "      <th>is_pv</th>\n",
       "      <th>unique_trk_id</th>\n",
       "    </tr>\n",
       "  </thead>\n",
       "  <tbody>\n",
       "    <tr>\n",
       "      <th>0</th>\n",
       "      <td>0</td>\n",
       "      <td>0</td>\n",
       "      <td>2.623967</td>\n",
       "      <td>1.301414</td>\n",
       "      <td>-0.289234</td>\n",
       "      <td>999.0</td>\n",
       "      <td>-0.878906</td>\n",
       "      <td>2</td>\n",
       "      <td>0</td>\n",
       "      <td>0</td>\n",
       "    </tr>\n",
       "    <tr>\n",
       "      <th>1</th>\n",
       "      <td>0</td>\n",
       "      <td>1</td>\n",
       "      <td>3.435026</td>\n",
       "      <td>0.566814</td>\n",
       "      <td>-0.159267</td>\n",
       "      <td>999.0</td>\n",
       "      <td>3.339844</td>\n",
       "      <td>2</td>\n",
       "      <td>0</td>\n",
       "      <td>1</td>\n",
       "    </tr>\n",
       "    <tr>\n",
       "      <th>2</th>\n",
       "      <td>0</td>\n",
       "      <td>2</td>\n",
       "      <td>3.774908</td>\n",
       "      <td>1.815973</td>\n",
       "      <td>-0.240375</td>\n",
       "      <td>999.0</td>\n",
       "      <td>4.921875</td>\n",
       "      <td>1</td>\n",
       "      <td>1</td>\n",
       "      <td>2</td>\n",
       "    </tr>\n",
       "    <tr>\n",
       "      <th>3</th>\n",
       "      <td>0</td>\n",
       "      <td>3</td>\n",
       "      <td>2.641448</td>\n",
       "      <td>-1.435747</td>\n",
       "      <td>-0.128747</td>\n",
       "      <td>999.0</td>\n",
       "      <td>-0.468750</td>\n",
       "      <td>2</td>\n",
       "      <td>0</td>\n",
       "      <td>3</td>\n",
       "    </tr>\n",
       "    <tr>\n",
       "      <th>4</th>\n",
       "      <td>0</td>\n",
       "      <td>4</td>\n",
       "      <td>2.320653</td>\n",
       "      <td>1.837421</td>\n",
       "      <td>0.032604</td>\n",
       "      <td>999.0</td>\n",
       "      <td>4.980469</td>\n",
       "      <td>1</td>\n",
       "      <td>1</td>\n",
       "      <td>4</td>\n",
       "    </tr>\n",
       "  </tbody>\n",
       "</table>\n",
       "</div>"
      ],
      "text/plain": [
       "   entry  subentry    trk_pt   trk_eta   trk_phi  trk_d0    trk_z0  trk_fake  \\\n",
       "0      0         0  2.623967  1.301414 -0.289234   999.0 -0.878906         2   \n",
       "1      0         1  3.435026  0.566814 -0.159267   999.0  3.339844         2   \n",
       "2      0         2  3.774908  1.815973 -0.240375   999.0  4.921875         1   \n",
       "3      0         3  2.641448 -1.435747 -0.128747   999.0 -0.468750         2   \n",
       "4      0         4  2.320653  1.837421  0.032604   999.0  4.980469         1   \n",
       "\n",
       "   is_pv  unique_trk_id  \n",
       "0      0              0  \n",
       "1      0              1  \n",
       "2      1              2  \n",
       "3      0              3  \n",
       "4      1              4  "
      ]
     },
     "execution_count": 56,
     "metadata": {},
     "output_type": "execute_result"
    }
   ],
   "source": [
    "e.head()"
   ]
  },
  {
   "cell_type": "code",
   "execution_count": 57,
   "metadata": {},
   "outputs": [],
   "source": [
    "X, edge_list, y = build_graph(e, radius=0.15)"
   ]
  },
  {
   "cell_type": "code",
   "execution_count": 58,
   "metadata": {},
   "outputs": [
    {
     "data": {
      "text/plain": [
       "(2, 6338)"
      ]
     },
     "execution_count": 58,
     "metadata": {},
     "output_type": "execute_result"
    }
   ],
   "source": [
    "edge_list.shape"
   ]
  },
  {
   "cell_type": "code",
   "execution_count": 59,
   "metadata": {},
   "outputs": [],
   "source": [
    "edges_df = pd.DataFrame({\"source\": edge_list[0], \"target\": edge_list[1]})\n",
    "x_df = pd.DataFrame(X, columns=[\"pt\", \"eta\", \"phi\", \"z0\"])"
   ]
  },
  {
   "cell_type": "code",
   "execution_count": 61,
   "metadata": {},
   "outputs": [],
   "source": [
    "G_s = nx.Graph()\n",
    "G_s = nx.from_pandas_edgelist(edges_df, source=\"source\", target=\"target\")\n",
    "nx.set_node_attributes(G_s, pd.Series(x_df.pt, index=x_df.index).to_dict(), \"pt\")\n",
    "nx.set_node_attributes(G_s, pd.Series(x_df.eta, index=x_df.index).to_dict(), \"eta\")\n",
    "nx.set_node_attributes(G_s, pd.Series(x_df.phi, index=x_df.index).to_dict(), \"phi\")\n",
    "nx.set_node_attributes(G_s, pd.Series(x_df.z0, index=x_df.index).to_dict(), \"z0\")"
   ]
  },
  {
   "cell_type": "code",
   "execution_count": 74,
   "metadata": {},
   "outputs": [],
   "source": [
    "options = {\n",
    "    \"font_size\": 36,\n",
    "    \"node_size\": 20,\n",
    "    \"node_color\": \"white\",\n",
    "    \"edgecolors\": \"black\",\n",
    "    \"linewidths\": 3,\n",
    "    \"width\": 3,\n",
    "}"
   ]
  },
  {
   "cell_type": "code",
   "execution_count": 75,
   "metadata": {},
   "outputs": [
    {
     "data": {
      "image/png": "[encoded data removed]",
      "text/plain": [
       "<Figure size 640x480 with 1 Axes>"
      ]
     },
     "metadata": {},
     "output_type": "display_data"
    }
   ],
   "source": [
    "nx.draw(G_s, **options)"
   ]
  },
  {
   "cell_type": "code",
   "execution_count": 85,
   "metadata": {},
   "outputs": [
    {
     "name": "stdout",
     "output_type": "stream",
     "text": [
      "4.921875\n",
      "4.98046875\n"
     ]
    }
   ],
   "source": [
    "print(G_s.nodes.data()[0][\"z0\"])\n",
    "print(G_s.nodes.data()[1][\"z0\"])"
   ]
  },
  {
   "cell_type": "code",
   "execution_count": 87,
   "metadata": {},
   "outputs": [
    {
     "data": {
      "text/html": [
       "<div>\n",
       "<style scoped>\n",
       "    .dataframe tbody tr th:only-of-type {\n",
       "        vertical-align: middle;\n",
       "    }\n",
       "\n",
       "    .dataframe tbody tr th {\n",
       "        vertical-align: top;\n",
       "    }\n",
       "\n",
       "    .dataframe thead th {\n",
       "        text-align: right;\n",
       "    }\n",
       "</style>\n",
       "<table border=\"1\" class=\"dataframe\">\n",
       "  <thead>\n",
       "    <tr style=\"text-align: right;\">\n",
       "      <th></th>\n",
       "      <th>pt</th>\n",
       "      <th>eta</th>\n",
       "      <th>phi</th>\n",
       "      <th>z0</th>\n",
       "    </tr>\n",
       "  </thead>\n",
       "  <tbody>\n",
       "    <tr>\n",
       "      <th>0</th>\n",
       "      <td>3.774908</td>\n",
       "      <td>1.815973</td>\n",
       "      <td>-0.240375</td>\n",
       "      <td>4.921875</td>\n",
       "    </tr>\n",
       "    <tr>\n",
       "      <th>1</th>\n",
       "      <td>2.320653</td>\n",
       "      <td>1.837421</td>\n",
       "      <td>0.032604</td>\n",
       "      <td>4.980469</td>\n",
       "    </tr>\n",
       "    <tr>\n",
       "      <th>2</th>\n",
       "      <td>2.584265</td>\n",
       "      <td>-0.590144</td>\n",
       "      <td>1.448720</td>\n",
       "      <td>4.804688</td>\n",
       "    </tr>\n",
       "    <tr>\n",
       "      <th>3</th>\n",
       "      <td>4.013740</td>\n",
       "      <td>-0.580180</td>\n",
       "      <td>1.616523</td>\n",
       "      <td>4.921875</td>\n",
       "    </tr>\n",
       "    <tr>\n",
       "      <th>4</th>\n",
       "      <td>2.251015</td>\n",
       "      <td>-0.292679</td>\n",
       "      <td>1.549711</td>\n",
       "      <td>5.097656</td>\n",
       "    </tr>\n",
       "    <tr>\n",
       "      <th>...</th>\n",
       "      <td>...</td>\n",
       "      <td>...</td>\n",
       "      <td>...</td>\n",
       "      <td>...</td>\n",
       "    </tr>\n",
       "    <tr>\n",
       "      <th>229</th>\n",
       "      <td>2.026653</td>\n",
       "      <td>-2.021094</td>\n",
       "      <td>-1.062191</td>\n",
       "      <td>-0.410156</td>\n",
       "    </tr>\n",
       "    <tr>\n",
       "      <th>230</th>\n",
       "      <td>2.049097</td>\n",
       "      <td>-2.055119</td>\n",
       "      <td>-0.964472</td>\n",
       "      <td>-0.410156</td>\n",
       "    </tr>\n",
       "    <tr>\n",
       "      <th>231</th>\n",
       "      <td>2.222179</td>\n",
       "      <td>-2.426809</td>\n",
       "      <td>-0.693084</td>\n",
       "      <td>5.566406</td>\n",
       "    </tr>\n",
       "    <tr>\n",
       "      <th>232</th>\n",
       "      <td>2.563973</td>\n",
       "      <td>2.081842</td>\n",
       "      <td>-0.530004</td>\n",
       "      <td>-3.046875</td>\n",
       "    </tr>\n",
       "    <tr>\n",
       "      <th>233</th>\n",
       "      <td>2.303798</td>\n",
       "      <td>1.335547</td>\n",
       "      <td>-0.274176</td>\n",
       "      <td>4.804688</td>\n",
       "    </tr>\n",
       "  </tbody>\n",
       "</table>\n",
       "<p>234 rows × 4 columns</p>\n",
       "</div>"
      ],
      "text/plain": [
       "           pt       eta       phi        z0\n",
       "0    3.774908  1.815973 -0.240375  4.921875\n",
       "1    2.320653  1.837421  0.032604  4.980469\n",
       "2    2.584265 -0.590144  1.448720  4.804688\n",
       "3    4.013740 -0.580180  1.616523  4.921875\n",
       "4    2.251015 -0.292679  1.549711  5.097656\n",
       "..        ...       ...       ...       ...\n",
       "229  2.026653 -2.021094 -1.062191 -0.410156\n",
       "230  2.049097 -2.055119 -0.964472 -0.410156\n",
       "231  2.222179 -2.426809 -0.693084  5.566406\n",
       "232  2.563973  2.081842 -0.530004 -3.046875\n",
       "233  2.303798  1.335547 -0.274176  4.804688\n",
       "\n",
       "[234 rows x 4 columns]"
      ]
     },
     "execution_count": 87,
     "metadata": {},
     "output_type": "execute_result"
    }
   ],
   "source": [
    "pos"
   ]
  },
  {
   "cell_type": "code",
   "execution_count": 107,
   "metadata": {},
   "outputs": [],
   "source": [
    "pos = {i: (x_df.iloc[i, -1], 0) for i in x_df.index}"
   ]
  },
  {
   "cell_type": "code",
   "execution_count": 105,
   "metadata": {},
   "outputs": [
    {
     "data": {
      "text/plain": [
       "4.921875"
      ]
     },
     "execution_count": 105,
     "metadata": {},
     "output_type": "execute_result"
    }
   ],
   "source": [
    "x_df.iloc[0, -1]"
   ]
  },
  {
   "cell_type": "code",
   "execution_count": 109,
   "metadata": {},
   "outputs": [],
   "source": [
    "options = {\n",
    "    \"font_size\": 0,\n",
    "    \"node_size\": 20,\n",
    "    \"node_color\": \"white\",\n",
    "    \"edgecolors\": \"black\",\n",
    "    \"linewidths\": 1,\n",
    "    \"width\": 1,\n",
    "}"
   ]
  },
  {
   "cell_type": "code",
   "execution_count": 110,
   "metadata": {},
   "outputs": [
    {
     "data": {
      "image/png": "[encoded data removed]",
      "text/plain": [
       "<Figure size 640x480 with 1 Axes>"
      ]
     },
     "metadata": {},
     "output_type": "display_data"
    }
   ],
   "source": [
    "nx.draw(G_s, pos, **options)"
   ]
  },
  {
   "cell_type": "code",
   "execution_count": null,
   "metadata": {},
   "outputs": [],
   "source": []
  }
 ],
 "metadata": {
  "kernelspec": {
   "display_name": "Python 3.8.12 ('py38torch11')",
   "language": "python",
   "name": "python3"
  },
  "language_info": {
   "codemirror_mode": {
    "name": "ipython",
    "version": 3
   },
   "file_extension": ".py",
   "mimetype": "text/x-python",
   "name": "python",
   "nbconvert_exporter": "python",
   "pygments_lexer": "ipython3",
   "version": "3.8.12"
  },
  "orig_nbformat": 4,
  "vscode": {
   "interpreter": {
    "hash": "d7268f0640bdc99c5e14afde383fc0b922506a497d461630d80bfd5acc0e1a75"
   }
  }
 },
 "nbformat": 4,
 "nbformat_minor": 2
}
