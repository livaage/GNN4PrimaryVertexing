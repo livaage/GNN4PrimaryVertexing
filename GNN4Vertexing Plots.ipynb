{
 "cells": [
  {
   "cell_type": "code",
   "execution_count": 1,
   "metadata": {},
   "outputs": [],
   "source": [
    "%load_ext lab_black"
   ]
  },
  {
   "cell_type": "code",
   "execution_count": 2,
   "id": "ee36e96c",
   "metadata": {},
   "outputs": [],
   "source": [
    "import numpy as np\n",
    "import matplotlib.pyplot as plt\n",
    "import pandas as pd\n",
    "\n",
    "import torch\n",
    "from torch import nn\n",
    "from torch_geometric.data import Data, DataLoader\n",
    "\n",
    "from models.interaction_network import InteractionNetwork\n",
    "\n",
    "# from models.graph import Graph\n",
    "# from models.dataset import GraphDataset\n",
    "from models.gcn import GCN\n",
    "\n",
    "import torch.nn.functional as F\n",
    "from tqdm import tqdm"
   ]
  },
  {
   "cell_type": "code",
   "execution_count": 3,
   "id": "8b6759f7",
   "metadata": {},
   "outputs": [],
   "source": [
    "def draw_graph_rz(X, idxs, y, out, cut=0.5, savefig=False, filename=\"out.png\"):\n",
    "\n",
    "    # cutoff = int(len(idxs[1])/2.)\n",
    "    cutoff = len(y)\n",
    "    X = np.array(X)\n",
    "    feats_o = X[idxs[0, :cutoff]]\n",
    "    feats_i = X[idxs[1, :cutoff]]\n",
    "\n",
    "    print(len(y))\n",
    "\n",
    "    print(\"out\", out, \"cutoff\", cutoff, \"cut\", cut)\n",
    "\n",
    "    directed_disagreements = np.where(\n",
    "        ((out[:cutoff] > cut) & (out[cutoff:] < cut))\n",
    "        | ((out[:cutoff] < cut) & (out[cutoff:] > cut))\n",
    "        == True\n",
    "    )[0]\n",
    "    print(\"Directed Disagreements:\", len(directed_disagreements))\n",
    "\n",
    "    # y, out = y[:cutoff], np.min(np.stack((out[:cutoff], out[cutoff:])), axis=0) #(out[:cutoff]+out[cutoff:])/2.\n",
    "\n",
    "    print(\n",
    "        \"X.shape\",\n",
    "        X.shape,\n",
    "        \"idxs.shape\",\n",
    "        idxs.shape,\n",
    "        \"y.shape\",\n",
    "        y.shape,\n",
    "        \"out.shape\",\n",
    "        out.shape,\n",
    "    )\n",
    "\n",
    "    fig = plt.figure(dpi=200)\n",
    "    ax = fig.add_subplot(111)\n",
    "    ax.scatter(X[:, 2] * 10, X[:, 0] * 10, c=\"silver\", lw=0, marker=\"s\", s=8)\n",
    "\n",
    "    TP = (out > cut) & (y > 0.5)\n",
    "    print(\"Directed Disagreements (TP):\", np.sum(TP[directed_disagreements] == True))\n",
    "    TN = (out < cut) & (y < 0.5)\n",
    "    print(\"Directed Disagreements (TN):\", np.sum(TN[directed_disagreements] == True))\n",
    "    FP = (out > cut) & (y < 0.5)\n",
    "    FN = (out < cut) & (y > 0.5)\n",
    "    wrong = ((out < cut) & (y > 0.5)) | ((out > cut) & (y < 0.5))\n",
    "\n",
    "    print(\"TP: {}\".format(np.sum(TP)))\n",
    "    print(\"TN: {}\".format(np.sum(TN)))\n",
    "    print(\"FP: {}\".format(np.sum(FP)))\n",
    "    print(\"FN: {}\".format(np.sum(FN)))\n",
    "    print(\n",
    "        \"Wrong: {}/{}={:3f}\".format(\n",
    "            np.sum(wrong), len(wrong), np.sum(wrong) / len(wrong)\n",
    "        )\n",
    "    )\n",
    "    print(\n",
    "        \"Right: {}/{}={:3f}\".format(\n",
    "            np.sum((TP | TN)), len(TP), np.sum((TP | TN)) / len(TP)\n",
    "        )\n",
    "    )\n",
    "    print(\"TPR: {:.4f}\".format((np.sum(TP) / (np.sum(TP) + np.sum(FN)))))\n",
    "    print(\"TNR: {:.4f}\".format(np.sum(TN) / (np.sum(TN) + np.sum(FP))))\n",
    "\n",
    "    ax.plot(\n",
    "        (feats_o[TP][:, 2] * 10, feats_i[TP][:, 2] * 10),\n",
    "        (feats_o[TP][:, 0] * 10, feats_i[TP][:, 0] * 10),\n",
    "        \"go-\",\n",
    "        lw=0.08,\n",
    "        ms=0.0,\n",
    "        alpha=0.5,\n",
    "    )\n",
    "    ax.plot(\n",
    "        (feats_o[TN][:, 2] * 10, feats_i[TN][:, 2] * 10),\n",
    "        (feats_o[TN][:, 0] * 10, feats_i[TN][:, 0] * 10),\n",
    "        \"ko-\",\n",
    "        lw=0.02,\n",
    "        ms=0.0,\n",
    "        alpha=0.3,\n",
    "    )\n",
    "    ax.plot(\n",
    "        (feats_o[FP][:, 2] * 10, feats_i[FP][:, 2] * 10),\n",
    "        (feats_o[FP][:, 0] * 10, feats_i[FP][:, 0] * 10),\n",
    "        \"ro-\",\n",
    "        lw=0.3,\n",
    "        ms=0.0,\n",
    "        alpha=0.3,\n",
    "        zorder=10,\n",
    "    )\n",
    "    ax.plot(\n",
    "        (feats_o[FN][:, 2] * 10, feats_i[FN][:, 2] * 10),\n",
    "        (feats_o[FN][:, 0] * 10, feats_i[FN][:, 0] * 10),\n",
    "        \"yo-\",\n",
    "        lw=0.3,\n",
    "        ms=0.0,\n",
    "        alpha=0.3,\n",
    "        zorder=10,\n",
    "    )\n",
    "\n",
    "    green_patch = mpatches.Patch(color=\"green\", label=\"True Positive\")\n",
    "    black_patch = mpatches.Patch(color=\"black\", label=\"True Negative\")\n",
    "    red_patch = mpatches.Patch(color=\"red\", label=\"False Positive\")\n",
    "    yellow_patch = mpatches.Patch(color=\"yellow\", label=\"False Negative\")\n",
    "    ax.legend(\n",
    "        handles=[green_patch, black_patch, red_patch, yellow_patch], loc=\"lower right\"\n",
    "    )  # bbox_to_anchor=[0.67, -0.2])\n",
    "    ax.set_ylabel(\"r [m]\")\n",
    "    ax.set_xlabel(\"z [m]\")\n",
    "    # ax.set_xlim([-1.6, 1.6])\n",
    "    # ax.set_xticks([-1.5, 1.5])\n",
    "    # ax.set_yticks([0.02, 0.2])\n",
    "    # ax.set_ylim([0, 0.2])\n",
    "    if savefig:\n",
    "        plt.savefig(filename, format=\"PDF\", bbox_inches=\"tight\")\n",
    "    plt.show()"
   ]
  },
  {
   "cell_type": "code",
   "execution_count": 4,
   "id": "be994b69",
   "metadata": {},
   "outputs": [],
   "source": [
    "def draw_graph_rz(X, idxs, y, out, cut=0.5, savefig=False, filename=\"out.png\"):\n",
    "\n",
    "    X = np.array(X)\n",
    "\n",
    "    print(X[:, 0])\n",
    "    fig = plt.figure(dpi=200)\n",
    "    ax = fig.add_subplot(111)\n",
    "    ax.scatter(X[:, 2] * 10, X[:, 0] * 10, c=\"silver\", lw=0, marker=\"s\", s=8)\n",
    "\n",
    "    TP = (out > cut) & (y > 0.5)\n",
    "    # print('Directed Disagreements (TP):', np.sum(TP[directed_disagreements]==True))\n",
    "    TN = (out < cut) & (y < 0.5)\n",
    "    # print('Directed Disagreements (TN):', np.sum(TN[directed_disagreements]==True))\n",
    "    FP = (out > cut) & (y < 0.5)\n",
    "    FN = (out < cut) & (y > 0.5)\n",
    "    wrong = ((out < cut) & (y > 0.5)) | ((out > cut) & (y < 0.5))\n",
    "\n",
    "    print(\"TP: {}\".format(np.sum(TP)))\n",
    "    print(\"TN: {}\".format(np.sum(TN)))\n",
    "    print(\"FP: {}\".format(np.sum(FP)))\n",
    "    print(\"FN: {}\".format(np.sum(FN)))\n",
    "    print(\n",
    "        \"Wrong: {}/{}={:3f}\".format(\n",
    "            np.sum(wrong), len(wrong), np.sum(wrong) / len(wrong)\n",
    "        )\n",
    "    )\n",
    "    print(\n",
    "        \"Right: {}/{}={:3f}\".format(\n",
    "            np.sum((TP | TN)), len(TP), np.sum((TP | TN)) / len(TP)\n",
    "        )\n",
    "    )\n",
    "    print(\"TPR: {:.4f}\".format((np.sum(TP) / (np.sum(TP) + np.sum(FN)))))\n",
    "    print(\"TNR: {:.4f}\".format(np.sum(TN) / (np.sum(TN) + np.sum(FP))))"
   ]
  },
  {
   "cell_type": "code",
   "execution_count": 5,
   "id": "f30941e7",
   "metadata": {},
   "outputs": [],
   "source": [
    "def load_graph(graph_path):\n",
    "    with np.load(graph_path) as f:\n",
    "        x = torch.from_numpy(f[\"x\"])\n",
    "        # edge_attr = torch.from_numpy(f['edge_attr'])\n",
    "        edge_index = torch.from_numpy(f[\"edge_index\"])\n",
    "        y = torch.from_numpy(f[\"y\"])\n",
    "        data = Data(x=x, edge_index=edge_index, y=y)\n",
    "        data.num_nodes = len(x)\n",
    "    return data"
   ]
  },
  {
   "cell_type": "code",
   "execution_count": 6,
   "id": "f207817e",
   "metadata": {},
   "outputs": [
    {
     "name": "stdout",
     "output_type": "stream",
     "text": [
      "torch.int64\n",
      "2\n",
      "2\n",
      "torch.Size([234, 4]) torch.Size([2, 108144]) torch.Size([234])\n",
      "0.48888248205184937\n",
      "[ 3.774908   2.3206532  2.5842652  4.01374    2.2510147  3.6483748\n",
      "  3.5917194  3.2086718  2.1114502 11.25964   13.912287  18.565226\n",
      "  3.121171   2.8964272  1.9967635  3.774908   2.3206532  2.5842652\n",
      "  4.01374    2.2510147  3.6483748  3.5917194  3.2086718  2.1114502\n",
      " 11.25964   13.912287  18.565226   3.121171   2.8964272  1.9967635\n",
      "  3.774908   2.3206532  2.5842652  4.01374    2.2510147  3.6483748\n",
      "  3.5917194  3.2086718  2.1114502 11.25964   13.912287  18.565226\n",
      "  3.121171   2.8964272  1.9967635  3.774908   2.3206532  2.5842652\n",
      "  4.01374    2.2510147  3.6483748  3.5917194  3.2086718  2.1114502\n",
      " 11.25964   13.912287  18.565226   3.121171   2.8964272  1.9967635\n",
      "  3.774908   2.3206532  2.5842652  4.01374    2.2510147  3.6483748\n",
      "  3.5917194  3.2086718  2.1114502 11.25964   13.912287  18.565226\n",
      "  3.121171   2.8964272  1.9967635  3.774908   2.3206532  2.5842652\n",
      "  4.01374    2.2510147  3.6483748  3.5917194  3.2086718  2.1114502\n",
      " 11.25964   13.912287  18.565226   3.121171   2.8964272  1.9967635\n",
      "  2.6239672  3.4350262  2.6414478  2.7351577  2.3191988  2.910093\n",
      "  5.7021084  3.20127    2.752108   3.199425   3.1273253  2.3586159\n",
      "  2.9780056  2.4250774  2.077471   3.3051517  5.545457   3.1575665\n",
      "  3.6628191  4.6413064  3.1045876  3.5824475  4.553735   3.7544825\n",
      "  2.6030493  3.7787628  4.49292    1.9597538  2.4486115  2.2606404\n",
      "  2.7713442  3.0753477  4.8714366  4.105771   3.9806397  2.8278158\n",
      "  1.9687897  3.0341637  2.0528855  2.2212894  3.4607246  3.1045876\n",
      "  4.2245073  2.6623516  2.335789   2.4632804  3.3239539  2.0978847\n",
      "  2.1006632  2.3148468  3.0341637  2.014883   2.3090692  2.185434\n",
      "  2.635178   2.1953738  2.5370212  2.0148828  2.6661875  2.812058\n",
      "  2.1490524  3.2395697  2.8866367  2.332354   2.9973018  4.3605676\n",
      "  2.602439   3.2500014  2.007233   3.2953413  2.4103353  3.0804675\n",
      "  3.1883988  2.0152485  4.0268426  2.207597   2.414004   2.2293181\n",
      "  2.1519685  2.0152485  2.1906087  2.4649212  2.2971249  2.2320075\n",
      "  2.1897447  1.9782617  2.4426854  2.308589   2.4993258  2.1490524\n",
      "  4.1642933  2.1374671  3.1620631  2.7859485  2.910093   2.368175\n",
      "  2.2067194  3.3847575  2.117895   2.7671995  2.2886014  2.6738932\n",
      "  2.3491335  2.4842257  2.4416108  2.3028429  3.310079   2.2023418\n",
      "  2.229766   4.518521   2.00687    1.9532028  2.053645   2.308109\n",
      "  2.159503   1.9708867  2.0770824  2.5469155  1.9611385  2.8813925\n",
      "  2.157824   1.9967635  2.2519279  1.9935364  2.2745347  2.6597998\n",
      "  2.5163202  2.5734828  3.227327   3.4650452  2.6042705  2.029246\n",
      "  1.9800259  3.3170018  2.707806   2.0057824  2.4523978  2.8415678\n",
      "  3.2953413  2.026653   2.0490966  2.2221787  2.5639734  2.3037984]\n",
      "TP: 90\n",
      "TN: 55\n",
      "FP: 89\n",
      "FN: 0\n",
      "Wrong: 89/234=0.380342\n",
      "Right: 145/234=0.619658\n",
      "TPR: 1.0000\n",
      "TNR: 0.3819\n"
     ]
    },
    {
     "data": {
      "image/png": "[encoded data removed]",
      "text/plain": [
       "<Figure size 1280x960 with 1 Axes>"
      ]
     },
     "metadata": {},
     "output_type": "display_data"
    }
   ],
   "source": [
    "graph = load_graph(\"built_graphs/rebalanced/graph_0.npz\")\n",
    "\n",
    "gcn = GCN().to(\"cpu\")\n",
    "model = \"trained_models/epoch1.pt\"\n",
    "gcn.load_state_dict(torch.load(model, map_location=torch.device(\"cpu\")))\n",
    "gcn.eval()\n",
    "\n",
    "x, edge_index = graph.x.float(), graph.edge_index\n",
    "y = graph.y.float()\n",
    "print(edge_index.dtype)  # == torch.long\n",
    "print(edge_index.dim())  # == 2\n",
    "print(edge_index.size(0))  # == 2\n",
    "\n",
    "row, col = edge_index\n",
    "row, col = torch.cat([row, col], dim=0), torch.cat([col, row], dim=0)\n",
    "edge_index = torch.stack([row, col], dim=0)\n",
    "# y = torch.cat([y,y])\n",
    "\n",
    "print(x.shape, edge_index.shape, y.shape)\n",
    "\n",
    "data = Data(x=x, edge_index=edge_index, y=y)\n",
    "data.num_nodes = len(x)\n",
    "\n",
    "\n",
    "output = gcn(data)\n",
    "# print(output.detach().numpy().squeeze(1))\n",
    "loss = F.binary_cross_entropy(output.detach().squeeze(1), data.y)\n",
    "\n",
    "print(loss.item())\n",
    "draw_graph_rz(\n",
    "    x.detach().numpy(),\n",
    "    edge_index.detach().numpy(),\n",
    "    y.detach().numpy(),\n",
    "    output.detach().numpy().squeeze(1),\n",
    "    cut=0.050,\n",
    "    savefig=True,\n",
    "    filename=\"confusion_matrix_graph.pdf\",\n",
    ")"
   ]
  },
  {
   "cell_type": "code",
   "execution_count": 10,
   "id": "035d8c15",
   "metadata": {},
   "outputs": [
    {
     "name": "stderr",
     "output_type": "stream",
     "text": [
      "100%|██████████| 200/200 [00:06<00:00, 32.95it/s]\n"
     ]
    }
   ],
   "source": [
    "for i in tqdm(range(800, 1000)):\n",
    "    graph = load_graph(\"built_graphs/rebalanced/graph_\" + str(i) + \".npz\")\n",
    "\n",
    "    gcn = GCN().to(\"cpu\")\n",
    "    model = \"trained_models/epoch1.pt\"\n",
    "    gcn.load_state_dict(torch.load(model, map_location=torch.device(\"cpu\")))\n",
    "    gcn.eval()\n",
    "\n",
    "    x, edge_index = graph.x.float(), graph.edge_index\n",
    "    y = graph.y.float()\n",
    "    # print(edge_index.dtype)# == torch.long\n",
    "    # print(edge_index.dim())# == 2\n",
    "    # print(edge_index.size(0))# == 2\n",
    "\n",
    "    row, col = edge_index\n",
    "    row, col = torch.cat([row, col], dim=0), torch.cat([col, row], dim=0)\n",
    "    edge_index = torch.stack([row, col], dim=0)\n",
    "    # y = torch.cat([y,y])\n",
    "\n",
    "    # print(x.shape, edge_index.shape, y.shape)\n",
    "\n",
    "    data = Data(x=x, edge_index=edge_index, y=y)\n",
    "    data.num_nodes = len(x)\n",
    "\n",
    "    output = gcn(data)\n",
    "\n",
    "    TP = x[np.intersect1d(np.where(y == 1), np.where(output > 0.5))]\n",
    "    TN = x[np.intersect1d(np.where(y == 0), np.where(output < 0.5))]\n",
    "    FP = x[np.intersect1d(np.where(y == 0), np.where(output > 0.5))]\n",
    "    FN = x[np.intersect1d(np.where(y == 1), np.where(output < 0.5))]\n",
    "    T = x[np.where(y == 1)]\n",
    "    F = x[np.where(y == 0)]\n",
    "\n",
    "    if i == 800:\n",
    "        TP_tot = TP\n",
    "        TN_tot = TN\n",
    "        FP_tot = FP\n",
    "        FN_tot = FN\n",
    "        T_tot = T\n",
    "        F_tot = F\n",
    "    else:\n",
    "        TP_tot = torch.cat((TP_tot, TP))\n",
    "        TN_tot = torch.cat((TN_tot, TN))\n",
    "        FP_tot = torch.cat((FP_tot, FP))\n",
    "        FN_tot = torch.cat((FN_tot, FN))\n",
    "        T_tot = torch.cat((T_tot, T))\n",
    "        F_tot = torch.cat((F_tot, F))"
   ]
  },
  {
   "cell_type": "code",
   "execution_count": 14,
   "id": "0355eb5a",
   "metadata": {},
   "outputs": [
    {
     "data": {
      "text/plain": [
       "Text(0.5, 0, '$p_T$')"
      ]
     },
     "execution_count": 14,
     "metadata": {},
     "output_type": "execute_result"
    },
    {
     "data": {
      "image/png": "[encoded data removed]",
      "text/plain": [
       "<Figure size 640x480 with 1 Axes>"
      ]
     },
     "metadata": {},
     "output_type": "display_data"
    }
   ],
   "source": [
    "plt.hist(\n",
    "    T_tot[:, 0].cpu().detach().numpy()[:15702], alpha=0.2, label=\"PV\", range=(2, 10)\n",
    ")\n",
    "plt.hist(\n",
    "    F_tot[:, 0].cpu().detach().numpy()[:15702], alpha=0.2, label=\"Not PV\", range=(2, 10)\n",
    ")\n",
    "plt.legend()\n",
    "plt.xlabel(\"$p_T$\")"
   ]
  },
  {
   "cell_type": "code",
   "execution_count": 11,
   "id": "c1ec7de5",
   "metadata": {},
   "outputs": [
    {
     "data": {
      "image/png": "[encoded data removed]",
      "text/plain": [
       "<Figure size 640x480 with 1 Axes>"
      ]
     },
     "metadata": {},
     "output_type": "display_data"
    },
    {
     "data": {
      "image/png": "[encoded data removed]",
      "text/plain": [
       "<Figure size 640x480 with 1 Axes>"
      ]
     },
     "metadata": {},
     "output_type": "display_data"
    },
    {
     "data": {
      "image/png": "[encoded data removed]",
      "text/plain": [
       "<Figure size 640x480 with 1 Axes>"
      ]
     },
     "metadata": {},
     "output_type": "display_data"
    },
    {
     "data": {
      "image/png": "[encoded data removed]",
      "text/plain": [
       "<Figure size 640x480 with 1 Axes>"
      ]
     },
     "metadata": {},
     "output_type": "display_data"
    }
   ],
   "source": [
    "features = [\"track_pt\", \"track_eta\", \"track_phi\", \"track_z0\"]\n",
    "for i in range(4):\n",
    "    plt.hist(T_tot[:, i].cpu().detach().numpy()[:15702], alpha=0.2, label=\"PV\")\n",
    "    plt.hist(F_tot[:, i].cpu().detach().numpy()[:15702], alpha=0.2, label=\"Not PV\")\n",
    "    plt.legend()\n",
    "    plt.xlabel(features[i])\n",
    "    plt.show()"
   ]
  },
  {
   "cell_type": "code",
   "execution_count": 12,
   "id": "d0308ee6",
   "metadata": {},
   "outputs": [],
   "source": [
    "from sklearn.model_selection import train_test_split\n",
    "\n",
    "\n",
    "ys = np.concatenate([np.ones(len(T_tot)), np.zeros(len(F_tot))])\n",
    "xs = torch.cat((T_tot, F_tot)).cpu().detach().numpy()\n",
    "\n",
    "x_train, x_test, y_train, y_test = train_test_split(\n",
    "    xs, ys, random_state=32, test_size=0.3\n",
    ")"
   ]
  },
  {
   "cell_type": "code",
   "execution_count": 13,
   "id": "8c437b49",
   "metadata": {},
   "outputs": [
    {
     "data": {
      "text/html": [
       "<style>#sk-container-id-1 {color: black;background-color: white;}#sk-container-id-1 pre{padding: 0;}#sk-container-id-1 div.sk-toggleable {background-color: white;}#sk-container-id-1 label.sk-toggleable__label {cursor: pointer;display: block;width: 100%;margin-bottom: 0;padding: 0.3em;box-sizing: border-box;text-align: center;}#sk-container-id-1 label.sk-toggleable__label-arrow:before {content: \"▸\";float: left;margin-right: 0.25em;color: #696969;}#sk-container-id-1 label.sk-toggleable__label-arrow:hover:before {color: black;}#sk-container-id-1 div.sk-estimator:hover label.sk-toggleable__label-arrow:before {color: black;}#sk-container-id-1 div.sk-toggleable__content {max-height: 0;max-width: 0;overflow: hidden;text-align: left;background-color: #f0f8ff;}#sk-container-id-1 div.sk-toggleable__content pre {margin: 0.2em;color: black;border-radius: 0.25em;background-color: #f0f8ff;}#sk-container-id-1 input.sk-toggleable__control:checked~div.sk-toggleable__content {max-height: 200px;max-width: 100%;overflow: auto;}#sk-container-id-1 input.sk-toggleable__control:checked~label.sk-toggleable__label-arrow:before {content: \"▾\";}#sk-container-id-1 div.sk-estimator input.sk-toggleable__control:checked~label.sk-toggleable__label {background-color: #d4ebff;}#sk-container-id-1 div.sk-label input.sk-toggleable__control:checked~label.sk-toggleable__label {background-color: #d4ebff;}#sk-container-id-1 input.sk-hidden--visually {border: 0;clip: rect(1px 1px 1px 1px);clip: rect(1px, 1px, 1px, 1px);height: 1px;margin: -1px;overflow: hidden;padding: 0;position: absolute;width: 1px;}#sk-container-id-1 div.sk-estimator {font-family: monospace;background-color: #f0f8ff;border: 1px dotted black;border-radius: 0.25em;box-sizing: border-box;margin-bottom: 0.5em;}#sk-container-id-1 div.sk-estimator:hover {background-color: #d4ebff;}#sk-container-id-1 div.sk-parallel-item::after {content: \"\";width: 100%;border-bottom: 1px solid gray;flex-grow: 1;}#sk-container-id-1 div.sk-label:hover label.sk-toggleable__label {background-color: #d4ebff;}#sk-container-id-1 div.sk-serial::before {content: \"\";position: absolute;border-left: 1px solid gray;box-sizing: border-box;top: 0;bottom: 0;left: 50%;z-index: 0;}#sk-container-id-1 div.sk-serial {display: flex;flex-direction: column;align-items: center;background-color: white;padding-right: 0.2em;padding-left: 0.2em;position: relative;}#sk-container-id-1 div.sk-item {position: relative;z-index: 1;}#sk-container-id-1 div.sk-parallel {display: flex;align-items: stretch;justify-content: center;background-color: white;position: relative;}#sk-container-id-1 div.sk-item::before, #sk-container-id-1 div.sk-parallel-item::before {content: \"\";position: absolute;border-left: 1px solid gray;box-sizing: border-box;top: 0;bottom: 0;left: 50%;z-index: -1;}#sk-container-id-1 div.sk-parallel-item {display: flex;flex-direction: column;z-index: 1;position: relative;background-color: white;}#sk-container-id-1 div.sk-parallel-item:first-child::after {align-self: flex-end;width: 50%;}#sk-container-id-1 div.sk-parallel-item:last-child::after {align-self: flex-start;width: 50%;}#sk-container-id-1 div.sk-parallel-item:only-child::after {width: 0;}#sk-container-id-1 div.sk-dashed-wrapped {border: 1px dashed gray;margin: 0 0.4em 0.5em 0.4em;box-sizing: border-box;padding-bottom: 0.4em;background-color: white;}#sk-container-id-1 div.sk-label label {font-family: monospace;font-weight: bold;display: inline-block;line-height: 1.2em;}#sk-container-id-1 div.sk-label-container {text-align: center;}#sk-container-id-1 div.sk-container {/* jupyter's `normalize.less` sets `[hidden] { display: none; }` but bootstrap.min.css set `[hidden] { display: none !important; }` so we also need the `!important` here to be able to override the default hidden behavior on the sphinx rendered scikit-learn.org. See: https://github.com/scikit-learn/scikit-learn/issues/21755 */display: inline-block !important;position: relative;}#sk-container-id-1 div.sk-text-repr-fallback {display: none;}</style><div id=\"sk-container-id-1\" class=\"sk-top-container\"><div class=\"sk-text-repr-fallback\"><pre>RandomForestClassifier(n_estimators=500)</pre><b>In a Jupyter environment, please rerun this cell to show the HTML representation or trust the notebook. <br />On GitHub, the HTML representation is unable to render, please try loading this page with nbviewer.org.</b></div><div class=\"sk-container\" hidden><div class=\"sk-item\"><div class=\"sk-estimator sk-toggleable\"><input class=\"sk-toggleable__control sk-hidden--visually\" id=\"sk-estimator-id-1\" type=\"checkbox\" checked><label for=\"sk-estimator-id-1\" class=\"sk-toggleable__label sk-toggleable__label-arrow\">RandomForestClassifier</label><div class=\"sk-toggleable__content\"><pre>RandomForestClassifier(n_estimators=500)</pre></div></div></div></div></div>"
      ],
      "text/plain": [
       "RandomForestClassifier(n_estimators=500)"
      ]
     },
     "execution_count": 13,
     "metadata": {},
     "output_type": "execute_result"
    }
   ],
   "source": [
    "from sklearn.ensemble import RandomForestClassifier\n",
    "\n",
    "rf = RandomForestClassifier(n_estimators=500)\n",
    "\n",
    "rf.fit(x_train, y_train)"
   ]
  },
  {
   "cell_type": "code",
   "execution_count": 12,
   "id": "8f8fa92f",
   "metadata": {},
   "outputs": [
    {
     "ename": "NameError",
     "evalue": "name 'x_test' is not defined",
     "output_type": "error",
     "traceback": [
      "\u001b[0;31m---------------------------------------------------------------------------\u001b[0m",
      "\u001b[0;31mNameError\u001b[0m                                 Traceback (most recent call last)",
      "\u001b[1;32m/home/lucas/Documents/Dropbox/RA/GNN4PrimaryVertexing/GNN4Vertexing Plots.ipynb Cell 12\u001b[0m in \u001b[0;36m<cell line: 3>\u001b[0;34m()\u001b[0m\n\u001b[1;32m      <a href='vscode-notebook-cell://ssh-remote%2Bironwolf/home/lucas/Documents/Dropbox/RA/GNN4PrimaryVertexing/GNN4Vertexing%20Plots.ipynb#X13sdnNjb2RlLXJlbW90ZQ%3D%3D?line=0'>1</a>\u001b[0m \u001b[39mfrom\u001b[39;00m \u001b[39msklearn\u001b[39;00m\u001b[39m.\u001b[39;00m\u001b[39mmetrics\u001b[39;00m \u001b[39mimport\u001b[39;00m accuracy_score \n\u001b[0;32m----> <a href='vscode-notebook-cell://ssh-remote%2Bironwolf/home/lucas/Documents/Dropbox/RA/GNN4PrimaryVertexing/GNN4Vertexing%20Plots.ipynb#X13sdnNjb2RlLXJlbW90ZQ%3D%3D?line=2'>3</a>\u001b[0m y_test_pred \u001b[39m=\u001b[39m rf\u001b[39m.\u001b[39mpredict(x_test)\n\u001b[1;32m      <a href='vscode-notebook-cell://ssh-remote%2Bironwolf/home/lucas/Documents/Dropbox/RA/GNN4PrimaryVertexing/GNN4Vertexing%20Plots.ipynb#X13sdnNjb2RlLXJlbW90ZQ%3D%3D?line=3'>4</a>\u001b[0m y_train_pred \u001b[39m=\u001b[39m rf\u001b[39m.\u001b[39mpredict(x_train)\n\u001b[1;32m      <a href='vscode-notebook-cell://ssh-remote%2Bironwolf/home/lucas/Documents/Dropbox/RA/GNN4PrimaryVertexing/GNN4Vertexing%20Plots.ipynb#X13sdnNjb2RlLXJlbW90ZQ%3D%3D?line=7'>8</a>\u001b[0m accuracy_score(y_test, y_test_pred)\n",
      "\u001b[0;31mNameError\u001b[0m: name 'x_test' is not defined"
     ]
    }
   ],
   "source": [
    "from sklearn.metrics import accuracy_score\n",
    "\n",
    "y_test_pred = rf.predict(x_test)\n",
    "y_train_pred = rf.predict(x_train)\n",
    "\n",
    "\n",
    "accuracy_score(y_test, y_test_pred)\n",
    "accuracy_score(y_train, y_train_pred)"
   ]
  },
  {
   "cell_type": "code",
   "execution_count": 13,
   "id": "bc030f9f",
   "metadata": {},
   "outputs": [
    {
     "ename": "NameError",
     "evalue": "name 'y_test_pred' is not defined",
     "output_type": "error",
     "traceback": [
      "\u001b[0;31m---------------------------------------------------------------------------\u001b[0m",
      "\u001b[0;31mNameError\u001b[0m                                 Traceback (most recent call last)",
      "\u001b[1;32m/home/lucas/Documents/Dropbox/RA/GNN4PrimaryVertexing/GNN4Vertexing Plots.ipynb Cell 13\u001b[0m in \u001b[0;36m<cell line: 1>\u001b[0;34m()\u001b[0m\n\u001b[0;32m----> <a href='vscode-notebook-cell://ssh-remote%2Bironwolf/home/lucas/Documents/Dropbox/RA/GNN4PrimaryVertexing/GNN4Vertexing%20Plots.ipynb#X14sdnNjb2RlLXJlbW90ZQ%3D%3D?line=0'>1</a>\u001b[0m \u001b[39mlen\u001b[39m(y_test_pred)\n",
      "\u001b[0;31mNameError\u001b[0m: name 'y_test_pred' is not defined"
     ]
    }
   ],
   "source": [
    "len(y_test_pred)"
   ]
  },
  {
   "cell_type": "code",
   "execution_count": 142,
   "id": "6d28e86f",
   "metadata": {},
   "outputs": [
    {
     "data": {
      "image/png": "[encoded data removed]",
      "text/plain": [
       "<Figure size 432x288 with 1 Axes>"
      ]
     },
     "metadata": {
      "needs_background": "light"
     },
     "output_type": "display_data"
    }
   ],
   "source": [
    "i = 0 \n",
    "plt.hist(T_tot[:, i].cpu().detach().numpy(), alpha =0.2,  label='PV')\n",
    "plt.hist(F_tot[:, i].cpu().detach().numpy(), alpha =0.2,  label='Not PV')\n",
    "plt.legend()\n",
    "plt.xlabel = features[i]\n",
    "plt"
   ]
  },
  {
   "cell_type": "code",
   "execution_count": 138,
   "id": "0b207f89",
   "metadata": {},
   "outputs": [
    {
     "data": {
      "image/png": "[encoded data removed]",
      "text/plain": [
       "<Figure size 432x288 with 1 Axes>"
      ]
     },
     "metadata": {
      "needs_background": "light"
     },
     "output_type": "display_data"
    },
    {
     "data": {
      "image/png": "[encoded data removed]",
      "text/plain": [
       "<Figure size 432x288 with 1 Axes>"
      ]
     },
     "metadata": {
      "needs_background": "light"
     },
     "output_type": "display_data"
    },
    {
     "data": {
      "image/png": "[encoded data removed]",
      "text/plain": [
       "<Figure size 432x288 with 1 Axes>"
      ]
     },
     "metadata": {
      "needs_background": "light"
     },
     "output_type": "display_data"
    },
    {
     "data": {
      "image/png": "[encoded data removed]",
      "text/plain": [
       "<Figure size 432x288 with 1 Axes>"
      ]
     },
     "metadata": {
      "needs_background": "light"
     },
     "output_type": "display_data"
    }
   ],
   "source": [
    "features = ['track_pt', 'track_eta', 'track_phi', 'track_z0']\n",
    "for i in range(4): \n",
    "    plt.hist(TP_tot[:, i].cpu().detach().numpy(), alpha =0.2,  label='True positive')\n",
    "    plt.hist(TN_tot[:, i].cpu().detach().numpy(), alpha =0.2,  label='True negative')\n",
    "    plt.hist(FP_tot[:, i].cpu().detach().numpy(), alpha =0.2,  label='False positive')\n",
    "    plt.hist(FN_tot[:, i].cpu().detach().numpy(), alpha =0.2,  label='False negative')\n",
    "    plt.legend()\n",
    "    plt.xlabel = features[i]\n",
    "    plt.show() "
   ]
  },
  {
   "cell_type": "code",
   "execution_count": 136,
   "id": "2e4f711a",
   "metadata": {},
   "outputs": [
    {
     "data": {
      "text/plain": [
       "'track_pt'"
      ]
     },
     "execution_count": 136,
     "metadata": {},
     "output_type": "execute_result"
    }
   ],
   "source": [
    "features[0]"
   ]
  },
  {
   "cell_type": "code",
   "execution_count": 93,
   "id": "b25ba65c",
   "metadata": {},
   "outputs": [
    {
     "data": {
      "text/plain": [
       "tensor([[[ 5.6759,  0.2777, -0.2967, -5.6250],\n",
       "         [ 7.1076,  0.2018, -0.2157, -5.8008],\n",
       "         [ 2.1846,  0.1266, -0.3046, -5.8008],\n",
       "         ...,\n",
       "         [ 3.5300, -1.6659, -0.7771, -0.2930],\n",
       "         [ 2.4820, -2.1433, -0.7232, -6.9727],\n",
       "         [ 2.5180,  2.3047, -0.5775, -4.1016]],\n",
       "\n",
       "        [[ 5.6759,  0.2777, -0.2967, -5.6250],\n",
       "         [ 5.6759,  0.2777, -0.2967, -5.6250],\n",
       "         [ 5.6759,  0.2777, -0.2967, -5.6250],\n",
       "         ...,\n",
       "         [ 5.6759,  0.2777, -0.2967, -5.6250],\n",
       "         [ 5.6759,  0.2777, -0.2967, -5.6250],\n",
       "         [ 5.6759,  0.2777, -0.2967, -5.6250]],\n",
       "\n",
       "        [[ 5.6759,  0.2777, -0.2967, -5.6250],\n",
       "         [ 7.1076,  0.2018, -0.2157, -5.8008],\n",
       "         [ 2.1846,  0.1266, -0.3046, -5.8008],\n",
       "         ...,\n",
       "         [ 3.5300, -1.6659, -0.7771, -0.2930],\n",
       "         [ 2.4820, -2.1433, -0.7232, -6.9727],\n",
       "         [ 2.5180,  2.3047, -0.5775, -4.1016]],\n",
       "\n",
       "        [[ 5.6759,  0.2777, -0.2967, -5.6250],\n",
       "         [ 5.6759,  0.2777, -0.2967, -5.6250],\n",
       "         [ 5.6759,  0.2777, -0.2967, -5.6250],\n",
       "         ...,\n",
       "         [ 5.6759,  0.2777, -0.2967, -5.6250],\n",
       "         [ 5.6759,  0.2777, -0.2967, -5.6250],\n",
       "         [ 5.6759,  0.2777, -0.2967, -5.6250]]])"
      ]
     },
     "execution_count": 93,
     "metadata": {},
     "output_type": "execute_result"
    }
   ],
   "source": [
    "torch.cat((t,t))"
   ]
  },
  {
   "cell_type": "code",
   "execution_count": 100,
   "id": "88782778",
   "metadata": {},
   "outputs": [
    {
     "data": {
      "text/plain": [
       "tensor([[ 5.6759e+00,  2.7767e-01, -2.9672e-01, -5.6250e+00],\n",
       "        [ 7.1076e+00,  2.0175e-01, -2.1566e-01, -5.8008e+00],\n",
       "        [ 2.1846e+00,  1.2661e-01, -3.0461e-01, -5.8008e+00],\n",
       "        [ 1.7539e+01,  2.0367e-01, -2.3263e-01, -5.6836e+00],\n",
       "        [ 2.5463e+01,  2.2086e-01, -1.9960e-01, -5.8008e+00],\n",
       "        [ 1.2850e+01,  2.0367e-01, -1.9988e-01, -5.6836e+00],\n",
       "        [ 3.8204e+00,  1.4597e-01, -7.2756e-02, -5.6836e+00],\n",
       "        [ 5.3763e+00,  2.6071e-01,  3.3113e-02, -5.7422e+00],\n",
       "        [ 5.1351e+00,  1.7296e-01,  1.4797e-01, -5.6250e+00],\n",
       "        [ 4.2374e+01,  2.3608e-01, -2.1700e-01, -5.8594e+00],\n",
       "        [ 7.8515e+00,  8.3363e-01,  2.3854e+00, -5.5078e+00],\n",
       "        [ 8.5664e+00,  8.2934e-01,  2.3678e+00, -5.5078e+00],\n",
       "        [ 2.3081e+00,  2.1046e+00,  2.3858e+00, -6.0352e+00],\n",
       "        [ 1.2213e+01,  9.2086e-01,  2.4856e+00, -5.6836e+00],\n",
       "        [ 2.1641e+01,  9.3156e-01,  2.4810e+00, -5.9180e+00],\n",
       "        [ 1.3656e+01,  9.1818e-01,  2.4656e+00, -5.6250e+00],\n",
       "        [ 2.7916e+00,  1.4567e+00,  2.5605e+00, -5.3906e+00],\n",
       "        [ 9.5133e+00,  8.8826e-01,  2.5064e+00, -5.7422e+00],\n",
       "        [ 2.4633e+00,  9.7997e-01,  2.4905e+00, -5.7422e+00],\n",
       "        [ 4.0137e+00,  1.5776e+00,  2.5876e+00, -5.9766e+00],\n",
       "        [ 5.1067e+00,  1.5929e+00,  2.6870e+00, -6.1523e+00],\n",
       "        [ 3.4792e+00,  1.3346e+00,  2.6112e+00, -4.6875e+00],\n",
       "        [ 2.6496e+00,  2.4414e+00,  2.8359e+00, -5.6250e+00],\n",
       "        [ 2.0252e+00,  2.4179e+00,  2.9197e+00, -5.8008e+00],\n",
       "        [ 2.3397e+00,  1.5541e+00,  2.8467e+00, -8.3789e+00],\n",
       "        [ 4.0283e+00,  1.4072e+00, -2.1369e+00, -5.6836e+00],\n",
       "        [ 3.0805e+00,  3.1879e-01, -1.0189e+00, -5.6836e+00],\n",
       "        [ 5.7763e+00,  1.7873e-01, -9.6645e-01, -5.5664e+00],\n",
       "        [ 3.9892e+00,  2.6448e-01, -9.0295e-01, -5.6250e+00],\n",
       "        [ 3.6246e+00,  2.4557e-01, -9.2886e-01, -5.8008e+00],\n",
       "        [ 8.1393e+00, -7.4088e-01, -8.5396e-01, -5.6836e+00],\n",
       "        [ 3.5538e+00, -6.3109e-01, -8.2882e-01, -5.4492e+00],\n",
       "        [ 1.0895e+01, -8.0771e-01, -8.7243e-01, -5.8008e+00],\n",
       "        [ 3.9439e+00, -8.0480e-01, -7.8629e-01, -5.8594e+00],\n",
       "        [ 3.4202e+00,  1.1718e-02, -7.4407e-01, -5.6250e+00],\n",
       "        [ 2.0861e+00, -8.1784e-01, -7.1033e-01, -5.8008e+00],\n",
       "        [ 2.0134e+00, -5.9345e-01, -8.2768e-01, -5.8008e+00],\n",
       "        [ 2.3057e+00,  4.4600e-01, -7.6896e-01, -5.8008e+00],\n",
       "        [ 2.1760e+00, -6.3595e-01, -6.9978e-01, -5.7422e+00],\n",
       "        [ 2.5289e+00, -7.2104e-01, -6.4711e-01, -5.6250e+00],\n",
       "        [ 2.8387e+00,  2.1513e-01, -2.9372e-01, -5.5664e+00],\n",
       "        [ 5.5234e+00, -8.9512e-01, -7.6442e-01, -5.8008e+00],\n",
       "        [ 2.0196e+00, -5.9511e-01, -8.2713e-01, -5.7422e+00],\n",
       "        [ 5.6759e+00,  2.7767e-01, -2.9672e-01, -5.6250e+00],\n",
       "        [ 7.1076e+00,  2.0175e-01, -2.1566e-01, -5.8008e+00],\n",
       "        [ 2.1846e+00,  1.2661e-01, -3.0461e-01, -5.8008e+00],\n",
       "        [ 1.7539e+01,  2.0367e-01, -2.3263e-01, -5.6836e+00],\n",
       "        [ 2.5463e+01,  2.2086e-01, -1.9960e-01, -5.8008e+00],\n",
       "        [ 1.2850e+01,  2.0367e-01, -1.9988e-01, -5.6836e+00],\n",
       "        [ 3.8204e+00,  1.4597e-01, -7.2756e-02, -5.6836e+00],\n",
       "        [ 5.3763e+00,  2.6071e-01,  3.3113e-02, -5.7422e+00],\n",
       "        [ 5.1351e+00,  1.7296e-01,  1.4797e-01, -5.6250e+00],\n",
       "        [ 4.2374e+01,  2.3608e-01, -2.1700e-01, -5.8594e+00],\n",
       "        [ 7.8515e+00,  8.3363e-01,  2.3854e+00, -5.5078e+00],\n",
       "        [ 8.5664e+00,  8.2934e-01,  2.3678e+00, -5.5078e+00],\n",
       "        [ 2.3081e+00,  2.1046e+00,  2.3858e+00, -6.0352e+00],\n",
       "        [ 1.2213e+01,  9.2086e-01,  2.4856e+00, -5.6836e+00],\n",
       "        [ 2.1641e+01,  9.3156e-01,  2.4810e+00, -5.9180e+00],\n",
       "        [ 1.3656e+01,  9.1818e-01,  2.4656e+00, -5.6250e+00],\n",
       "        [ 2.7916e+00,  1.4567e+00,  2.5605e+00, -5.3906e+00],\n",
       "        [ 9.5133e+00,  8.8826e-01,  2.5064e+00, -5.7422e+00],\n",
       "        [ 2.4633e+00,  9.7997e-01,  2.4905e+00, -5.7422e+00],\n",
       "        [ 4.0137e+00,  1.5776e+00,  2.5876e+00, -5.9766e+00],\n",
       "        [ 5.1067e+00,  1.5929e+00,  2.6870e+00, -6.1523e+00],\n",
       "        [ 3.4792e+00,  1.3346e+00,  2.6112e+00, -4.6875e+00],\n",
       "        [ 2.6496e+00,  2.4414e+00,  2.8359e+00, -5.6250e+00],\n",
       "        [ 2.0252e+00,  2.4179e+00,  2.9197e+00, -5.8008e+00],\n",
       "        [ 2.3397e+00,  1.5541e+00,  2.8467e+00, -8.3789e+00],\n",
       "        [ 4.0283e+00,  1.4072e+00, -2.1369e+00, -5.6836e+00],\n",
       "        [ 3.0805e+00,  3.1879e-01, -1.0189e+00, -5.6836e+00],\n",
       "        [ 5.7763e+00,  1.7873e-01, -9.6645e-01, -5.5664e+00],\n",
       "        [ 3.9892e+00,  2.6448e-01, -9.0295e-01, -5.6250e+00],\n",
       "        [ 3.6246e+00,  2.4557e-01, -9.2886e-01, -5.8008e+00],\n",
       "        [ 8.1393e+00, -7.4088e-01, -8.5396e-01, -5.6836e+00],\n",
       "        [ 3.5538e+00, -6.3109e-01, -8.2882e-01, -5.4492e+00],\n",
       "        [ 1.0895e+01, -8.0771e-01, -8.7243e-01, -5.8008e+00],\n",
       "        [ 3.9439e+00, -8.0480e-01, -7.8629e-01, -5.8594e+00],\n",
       "        [ 3.4202e+00,  1.1718e-02, -7.4407e-01, -5.6250e+00],\n",
       "        [ 2.0861e+00, -8.1784e-01, -7.1033e-01, -5.8008e+00],\n",
       "        [ 2.0134e+00, -5.9345e-01, -8.2768e-01, -5.8008e+00],\n",
       "        [ 2.3057e+00,  4.4600e-01, -7.6896e-01, -5.8008e+00],\n",
       "        [ 2.1760e+00, -6.3595e-01, -6.9978e-01, -5.7422e+00],\n",
       "        [ 2.5289e+00, -7.2104e-01, -6.4711e-01, -5.6250e+00],\n",
       "        [ 2.8387e+00,  2.1513e-01, -2.9372e-01, -5.5664e+00],\n",
       "        [ 5.5234e+00, -8.9512e-01, -7.6442e-01, -5.8008e+00],\n",
       "        [ 2.0196e+00, -5.9511e-01, -8.2713e-01, -5.7422e+00],\n",
       "        [ 5.6759e+00,  2.7767e-01, -2.9672e-01, -5.6250e+00],\n",
       "        [ 7.1076e+00,  2.0175e-01, -2.1566e-01, -5.8008e+00],\n",
       "        [ 2.1846e+00,  1.2661e-01, -3.0461e-01, -5.8008e+00],\n",
       "        [ 1.7539e+01,  2.0367e-01, -2.3263e-01, -5.6836e+00],\n",
       "        [ 2.5463e+01,  2.2086e-01, -1.9960e-01, -5.8008e+00],\n",
       "        [ 1.2850e+01,  2.0367e-01, -1.9988e-01, -5.6836e+00],\n",
       "        [ 3.8204e+00,  1.4597e-01, -7.2756e-02, -5.6836e+00],\n",
       "        [ 5.3763e+00,  2.6071e-01,  3.3113e-02, -5.7422e+00],\n",
       "        [ 5.1351e+00,  1.7296e-01,  1.4797e-01, -5.6250e+00],\n",
       "        [ 4.2374e+01,  2.3608e-01, -2.1700e-01, -5.8594e+00],\n",
       "        [ 7.8515e+00,  8.3363e-01,  2.3854e+00, -5.5078e+00],\n",
       "        [ 8.5664e+00,  8.2934e-01,  2.3678e+00, -5.5078e+00],\n",
       "        [ 2.3081e+00,  2.1046e+00,  2.3858e+00, -6.0352e+00],\n",
       "        [ 1.2213e+01,  9.2086e-01,  2.4856e+00, -5.6836e+00],\n",
       "        [ 2.1641e+01,  9.3156e-01,  2.4810e+00, -5.9180e+00],\n",
       "        [ 1.3656e+01,  9.1818e-01,  2.4656e+00, -5.6250e+00],\n",
       "        [ 2.7916e+00,  1.4567e+00,  2.5605e+00, -5.3906e+00],\n",
       "        [ 9.5133e+00,  8.8826e-01,  2.5064e+00, -5.7422e+00],\n",
       "        [ 2.4633e+00,  9.7997e-01,  2.4905e+00, -5.7422e+00],\n",
       "        [ 4.0137e+00,  1.5776e+00,  2.5876e+00, -5.9766e+00],\n",
       "        [ 5.1067e+00,  1.5929e+00,  2.6870e+00, -6.1523e+00],\n",
       "        [ 3.4792e+00,  1.3346e+00,  2.6112e+00, -4.6875e+00],\n",
       "        [ 2.6496e+00,  2.4414e+00,  2.8359e+00, -5.6250e+00],\n",
       "        [ 2.0252e+00,  2.4179e+00,  2.9197e+00, -5.8008e+00],\n",
       "        [ 2.3397e+00,  1.5541e+00,  2.8467e+00, -8.3789e+00],\n",
       "        [ 4.0283e+00,  1.4072e+00, -2.1369e+00, -5.6836e+00],\n",
       "        [ 3.0805e+00,  3.1879e-01, -1.0189e+00, -5.6836e+00],\n",
       "        [ 5.7763e+00,  1.7873e-01, -9.6645e-01, -5.5664e+00],\n",
       "        [ 3.9892e+00,  2.6448e-01, -9.0295e-01, -5.6250e+00],\n",
       "        [ 3.6246e+00,  2.4557e-01, -9.2886e-01, -5.8008e+00],\n",
       "        [ 8.1393e+00, -7.4088e-01, -8.5396e-01, -5.6836e+00],\n",
       "        [ 3.5538e+00, -6.3109e-01, -8.2882e-01, -5.4492e+00],\n",
       "        [ 1.0895e+01, -8.0771e-01, -8.7243e-01, -5.8008e+00],\n",
       "        [ 3.9439e+00, -8.0480e-01, -7.8629e-01, -5.8594e+00],\n",
       "        [ 3.4202e+00,  1.1718e-02, -7.4407e-01, -5.6250e+00],\n",
       "        [ 2.0861e+00, -8.1784e-01, -7.1033e-01, -5.8008e+00],\n",
       "        [ 2.0134e+00, -5.9345e-01, -8.2768e-01, -5.8008e+00],\n",
       "        [ 2.3057e+00,  4.4600e-01, -7.6896e-01, -5.8008e+00],\n",
       "        [ 2.1760e+00, -6.3595e-01, -6.9978e-01, -5.7422e+00],\n",
       "        [ 2.5289e+00, -7.2104e-01, -6.4711e-01, -5.6250e+00],\n",
       "        [ 2.8387e+00,  2.1513e-01, -2.9372e-01, -5.5664e+00],\n",
       "        [ 5.5234e+00, -8.9512e-01, -7.6442e-01, -5.8008e+00],\n",
       "        [ 2.0196e+00, -5.9511e-01, -8.2713e-01, -5.7422e+00],\n",
       "        [ 5.6759e+00,  2.7767e-01, -2.9672e-01, -5.6250e+00],\n",
       "        [ 7.1076e+00,  2.0175e-01, -2.1566e-01, -5.8008e+00],\n",
       "        [ 2.1846e+00,  1.2661e-01, -3.0461e-01, -5.8008e+00],\n",
       "        [ 1.7539e+01,  2.0367e-01, -2.3263e-01, -5.6836e+00],\n",
       "        [ 2.5463e+01,  2.2086e-01, -1.9960e-01, -5.8008e+00],\n",
       "        [ 1.2850e+01,  2.0367e-01, -1.9988e-01, -5.6836e+00],\n",
       "        [ 3.8204e+00,  1.4597e-01, -7.2756e-02, -5.6836e+00],\n",
       "        [ 5.3763e+00,  2.6071e-01,  3.3113e-02, -5.7422e+00],\n",
       "        [ 5.1351e+00,  1.7296e-01,  1.4797e-01, -5.6250e+00],\n",
       "        [ 4.2374e+01,  2.3608e-01, -2.1700e-01, -5.8594e+00],\n",
       "        [ 7.8515e+00,  8.3363e-01,  2.3854e+00, -5.5078e+00],\n",
       "        [ 8.5664e+00,  8.2934e-01,  2.3678e+00, -5.5078e+00],\n",
       "        [ 2.3081e+00,  2.1046e+00,  2.3858e+00, -6.0352e+00],\n",
       "        [ 1.2213e+01,  9.2086e-01,  2.4856e+00, -5.6836e+00],\n",
       "        [ 2.1641e+01,  9.3156e-01,  2.4810e+00, -5.9180e+00],\n",
       "        [ 1.3656e+01,  9.1818e-01,  2.4656e+00, -5.6250e+00],\n",
       "        [ 2.7916e+00,  1.4567e+00,  2.5605e+00, -5.3906e+00],\n",
       "        [ 9.5133e+00,  8.8826e-01,  2.5064e+00, -5.7422e+00],\n",
       "        [ 2.4633e+00,  9.7997e-01,  2.4905e+00, -5.7422e+00],\n",
       "        [ 4.0137e+00,  1.5776e+00,  2.5876e+00, -5.9766e+00],\n",
       "        [ 5.1067e+00,  1.5929e+00,  2.6870e+00, -6.1523e+00],\n",
       "        [ 3.4792e+00,  1.3346e+00,  2.6112e+00, -4.6875e+00],\n",
       "        [ 2.6496e+00,  2.4414e+00,  2.8359e+00, -5.6250e+00],\n",
       "        [ 2.0252e+00,  2.4179e+00,  2.9197e+00, -5.8008e+00],\n",
       "        [ 2.3397e+00,  1.5541e+00,  2.8467e+00, -8.3789e+00],\n",
       "        [ 4.0283e+00,  1.4072e+00, -2.1369e+00, -5.6836e+00],\n",
       "        [ 3.0805e+00,  3.1879e-01, -1.0189e+00, -5.6836e+00],\n",
       "        [ 5.7763e+00,  1.7873e-01, -9.6645e-01, -5.5664e+00],\n",
       "        [ 3.9892e+00,  2.6448e-01, -9.0295e-01, -5.6250e+00],\n",
       "        [ 3.6246e+00,  2.4557e-01, -9.2886e-01, -5.8008e+00],\n",
       "        [ 8.1393e+00, -7.4088e-01, -8.5396e-01, -5.6836e+00],\n",
       "        [ 3.5538e+00, -6.3109e-01, -8.2882e-01, -5.4492e+00],\n",
       "        [ 1.0895e+01, -8.0771e-01, -8.7243e-01, -5.8008e+00],\n",
       "        [ 3.9439e+00, -8.0480e-01, -7.8629e-01, -5.8594e+00],\n",
       "        [ 3.4202e+00,  1.1718e-02, -7.4407e-01, -5.6250e+00],\n",
       "        [ 2.0861e+00, -8.1784e-01, -7.1033e-01, -5.8008e+00],\n",
       "        [ 2.0134e+00, -5.9345e-01, -8.2768e-01, -5.8008e+00],\n",
       "        [ 2.3057e+00,  4.4600e-01, -7.6896e-01, -5.8008e+00],\n",
       "        [ 2.1760e+00, -6.3595e-01, -6.9978e-01, -5.7422e+00],\n",
       "        [ 2.5289e+00, -7.2104e-01, -6.4711e-01, -5.6250e+00],\n",
       "        [ 2.8387e+00,  2.1513e-01, -2.9372e-01, -5.5664e+00],\n",
       "        [ 5.5234e+00, -8.9512e-01, -7.6442e-01, -5.8008e+00],\n",
       "        [ 2.0196e+00, -5.9511e-01, -8.2713e-01, -5.7422e+00],\n",
       "        [ 5.6759e+00,  2.7767e-01, -2.9672e-01, -5.6250e+00],\n",
       "        [ 7.1076e+00,  2.0175e-01, -2.1566e-01, -5.8008e+00],\n",
       "        [ 2.1846e+00,  1.2661e-01, -3.0461e-01, -5.8008e+00],\n",
       "        [ 1.7539e+01,  2.0367e-01, -2.3263e-01, -5.6836e+00],\n",
       "        [ 2.5463e+01,  2.2086e-01, -1.9960e-01, -5.8008e+00],\n",
       "        [ 1.2850e+01,  2.0367e-01, -1.9988e-01, -5.6836e+00],\n",
       "        [ 3.8204e+00,  1.4597e-01, -7.2756e-02, -5.6836e+00],\n",
       "        [ 5.3763e+00,  2.6071e-01,  3.3113e-02, -5.7422e+00],\n",
       "        [ 5.1351e+00,  1.7296e-01,  1.4797e-01, -5.6250e+00],\n",
       "        [ 4.2374e+01,  2.3608e-01, -2.1700e-01, -5.8594e+00],\n",
       "        [ 7.8515e+00,  8.3363e-01,  2.3854e+00, -5.5078e+00],\n",
       "        [ 8.5664e+00,  8.2934e-01,  2.3678e+00, -5.5078e+00],\n",
       "        [ 2.3081e+00,  2.1046e+00,  2.3858e+00, -6.0352e+00],\n",
       "        [ 1.2213e+01,  9.2086e-01,  2.4856e+00, -5.6836e+00],\n",
       "        [ 2.1641e+01,  9.3156e-01,  2.4810e+00, -5.9180e+00],\n",
       "        [ 1.3656e+01,  9.1818e-01,  2.4656e+00, -5.6250e+00],\n",
       "        [ 2.7916e+00,  1.4567e+00,  2.5605e+00, -5.3906e+00],\n",
       "        [ 9.5133e+00,  8.8826e-01,  2.5064e+00, -5.7422e+00],\n",
       "        [ 2.4633e+00,  9.7997e-01,  2.4905e+00, -5.7422e+00],\n",
       "        [ 4.0137e+00,  1.5776e+00,  2.5876e+00, -5.9766e+00],\n",
       "        [ 5.1067e+00,  1.5929e+00,  2.6870e+00, -6.1523e+00],\n",
       "        [ 3.4792e+00,  1.3346e+00,  2.6112e+00, -4.6875e+00],\n",
       "        [ 2.6496e+00,  2.4414e+00,  2.8359e+00, -5.6250e+00],\n",
       "        [ 2.0252e+00,  2.4179e+00,  2.9197e+00, -5.8008e+00],\n",
       "        [ 2.3397e+00,  1.5541e+00,  2.8467e+00, -8.3789e+00],\n",
       "        [ 4.0283e+00,  1.4072e+00, -2.1369e+00, -5.6836e+00],\n",
       "        [ 3.0805e+00,  3.1879e-01, -1.0189e+00, -5.6836e+00],\n",
       "        [ 5.7763e+00,  1.7873e-01, -9.6645e-01, -5.5664e+00],\n",
       "        [ 3.9892e+00,  2.6448e-01, -9.0295e-01, -5.6250e+00],\n",
       "        [ 3.6246e+00,  2.4557e-01, -9.2886e-01, -5.8008e+00],\n",
       "        [ 8.1393e+00, -7.4088e-01, -8.5396e-01, -5.6836e+00],\n",
       "        [ 3.5538e+00, -6.3109e-01, -8.2882e-01, -5.4492e+00],\n",
       "        [ 3.9439e+00, -8.0480e-01, -7.8629e-01, -5.8594e+00],\n",
       "        [ 3.4202e+00,  1.1718e-02, -7.4407e-01, -5.6250e+00],\n",
       "        [ 2.0861e+00, -8.1784e-01, -7.1033e-01, -5.8008e+00],\n",
       "        [ 2.0134e+00, -5.9345e-01, -8.2768e-01, -5.8008e+00],\n",
       "        [ 2.3057e+00,  4.4600e-01, -7.6896e-01, -5.8008e+00],\n",
       "        [ 2.1760e+00, -6.3595e-01, -6.9978e-01, -5.7422e+00],\n",
       "        [ 2.5289e+00, -7.2104e-01, -6.4711e-01, -5.6250e+00],\n",
       "        [ 2.8387e+00,  2.1513e-01, -2.9372e-01, -5.5664e+00],\n",
       "        [ 5.5234e+00, -8.9512e-01, -7.6442e-01, -5.8008e+00],\n",
       "        [ 2.0196e+00, -5.9511e-01, -8.2713e-01, -5.7422e+00],\n",
       "        [ 5.6759e+00,  2.7767e-01, -2.9672e-01, -5.6250e+00],\n",
       "        [ 7.1076e+00,  2.0175e-01, -2.1566e-01, -5.8008e+00],\n",
       "        [ 2.1846e+00,  1.2661e-01, -3.0461e-01, -5.8008e+00],\n",
       "        [ 1.7539e+01,  2.0367e-01, -2.3263e-01, -5.6836e+00],\n",
       "        [ 3.8204e+00,  1.4597e-01, -7.2756e-02, -5.6836e+00],\n",
       "        [ 5.1351e+00,  1.7296e-01,  1.4797e-01, -5.6250e+00],\n",
       "        [ 4.2374e+01,  2.3608e-01, -2.1700e-01, -5.8594e+00],\n",
       "        [ 7.8515e+00,  8.3363e-01,  2.3854e+00, -5.5078e+00],\n",
       "        [ 1.2213e+01,  9.2086e-01,  2.4856e+00, -5.6836e+00],\n",
       "        [ 9.5133e+00,  8.8826e-01,  2.5064e+00, -5.7422e+00],\n",
       "        [ 4.0137e+00,  1.5776e+00,  2.5876e+00, -5.9766e+00],\n",
       "        [ 5.1067e+00,  1.5929e+00,  2.6870e+00, -6.1523e+00],\n",
       "        [ 2.6496e+00,  2.4414e+00,  2.8359e+00, -5.6250e+00],\n",
       "        [ 2.0252e+00,  2.4179e+00,  2.9197e+00, -5.8008e+00],\n",
       "        [ 4.0283e+00,  1.4072e+00, -2.1369e+00, -5.6836e+00],\n",
       "        [ 5.7763e+00,  1.7873e-01, -9.6645e-01, -5.5664e+00],\n",
       "        [ 3.6246e+00,  2.4557e-01, -9.2886e-01, -5.8008e+00],\n",
       "        [ 1.0895e+01, -8.0771e-01, -8.7243e-01, -5.8008e+00],\n",
       "        [ 3.4202e+00,  1.1718e-02, -7.4407e-01, -5.6250e+00],\n",
       "        [ 2.0861e+00, -8.1784e-01, -7.1033e-01, -5.8008e+00],\n",
       "        [ 2.0134e+00, -5.9345e-01, -8.2768e-01, -5.8008e+00],\n",
       "        [ 2.3057e+00,  4.4600e-01, -7.6896e-01, -5.8008e+00],\n",
       "        [ 2.1760e+00, -6.3595e-01, -6.9978e-01, -5.7422e+00],\n",
       "        [ 2.5289e+00, -7.2104e-01, -6.4711e-01, -5.6250e+00],\n",
       "        [ 2.8387e+00,  2.1513e-01, -2.9372e-01, -5.5664e+00],\n",
       "        [ 5.5234e+00, -8.9512e-01, -7.6442e-01, -5.8008e+00],\n",
       "        [ 2.0196e+00, -5.9511e-01, -8.2713e-01, -5.7422e+00]])"
      ]
     },
     "execution_count": 100,
     "metadata": {},
     "output_type": "execute_result"
    }
   ],
   "source": [
    "x[np.intersect1d(np.where(y==1), np.where(output > 0.5))]"
   ]
  },
  {
   "cell_type": "code",
   "execution_count": 97,
   "id": "bc61c59f",
   "metadata": {},
   "outputs": [
    {
     "data": {
      "text/plain": [
       "array([  0,   0,   0, ..., 411, 411, 411])"
      ]
     },
     "execution_count": 97,
     "metadata": {},
     "output_type": "execute_result"
    }
   ],
   "source": [
    "np.where((y==1)& (output > 0.5))[0]"
   ]
  },
  {
   "cell_type": "code",
   "execution_count": 110,
   "id": "7c19ab0f",
   "metadata": {},
   "outputs": [],
   "source": [
    "tmp = torch.empty(1,1,4)"
   ]
  },
  {
   "cell_type": "code",
   "execution_count": 111,
   "id": "9a25875b",
   "metadata": {},
   "outputs": [
    {
     "ename": "RuntimeError",
     "evalue": "Sizes of tensors must match except in dimension 0. Got 1 and 327 in dimension 1 (The offending index is 1)",
     "output_type": "error",
     "traceback": [
      "\u001b[0;31m---------------------------------------------------------------------------\u001b[0m",
      "\u001b[0;31mRuntimeError\u001b[0m                              Traceback (most recent call last)",
      "Input \u001b[0;32mIn [111]\u001b[0m, in \u001b[0;36m<cell line: 1>\u001b[0;34m()\u001b[0m\n\u001b[0;32m----> 1\u001b[0m \u001b[43mtorch\u001b[49m\u001b[38;5;241;43m.\u001b[39;49m\u001b[43mcat\u001b[49m\u001b[43m(\u001b[49m\u001b[43m(\u001b[49m\u001b[43mtmp\u001b[49m\u001b[43m,\u001b[49m\u001b[43m \u001b[49m\u001b[43mt\u001b[49m\u001b[43m)\u001b[49m\u001b[43m)\u001b[49m\n",
      "\u001b[0;31mRuntimeError\u001b[0m: Sizes of tensors must match except in dimension 0. Got 1 and 327 in dimension 1 (The offending index is 1)"
     ]
    }
   ],
   "source": [
    "torch.cat((tmp, t))"
   ]
  },
  {
   "cell_type": "code",
   "execution_count": 109,
   "id": "f02b74e5",
   "metadata": {},
   "outputs": [
    {
     "data": {
      "text/plain": [
       "tensor([[[ 5.6759,  0.2777, -0.2967, -5.6250],\n",
       "         [ 7.1076,  0.2018, -0.2157, -5.8008],\n",
       "         [ 2.1846,  0.1266, -0.3046, -5.8008],\n",
       "         ...,\n",
       "         [ 3.5300, -1.6659, -0.7771, -0.2930],\n",
       "         [ 2.4820, -2.1433, -0.7232, -6.9727],\n",
       "         [ 2.5180,  2.3047, -0.5775, -4.1016]],\n",
       "\n",
       "        [[ 5.6759,  0.2777, -0.2967, -5.6250],\n",
       "         [ 5.6759,  0.2777, -0.2967, -5.6250],\n",
       "         [ 5.6759,  0.2777, -0.2967, -5.6250],\n",
       "         ...,\n",
       "         [ 5.6759,  0.2777, -0.2967, -5.6250],\n",
       "         [ 5.6759,  0.2777, -0.2967, -5.6250],\n",
       "         [ 5.6759,  0.2777, -0.2967, -5.6250]]])"
      ]
     },
     "execution_count": 109,
     "metadata": {},
     "output_type": "execute_result"
    }
   ],
   "source": [
    "t"
   ]
  },
  {
   "cell_type": "code",
   "execution_count": 106,
   "id": "f7bc5b49",
   "metadata": {},
   "outputs": [
    {
     "data": {
      "text/plain": [
       "tensor([[2.1395e-34, 3.0781e-41, 2.1379e-34, 3.0781e-41]])"
      ]
     },
     "execution_count": 106,
     "metadata": {},
     "output_type": "execute_result"
    }
   ],
   "source": [
    "tmp"
   ]
  },
  {
   "cell_type": "code",
   "execution_count": null,
   "id": "bd818a6f",
   "metadata": {},
   "outputs": [],
   "source": []
  }
 ],
 "metadata": {
  "kernelspec": {
   "display_name": "Python 3.8.12 ('py38torch11')",
   "language": "python",
   "name": "python3"
  },
  "language_info": {
   "codemirror_mode": {
    "name": "ipython",
    "version": 3
   },
   "file_extension": ".py",
   "mimetype": "text/x-python",
   "name": "python",
   "nbconvert_exporter": "python",
   "pygments_lexer": "ipython3",
   "version": "3.8.12"
  },
  "vscode": {
   "interpreter": {
    "hash": "d7268f0640bdc99c5e14afde383fc0b922506a497d461630d80bfd5acc0e1a75"
   }
  }
 },
 "nbformat": 4,
 "nbformat_minor": 5
}
